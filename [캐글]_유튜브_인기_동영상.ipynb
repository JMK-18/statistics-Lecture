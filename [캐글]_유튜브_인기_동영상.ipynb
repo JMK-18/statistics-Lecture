{
  "nbformat": 4,
  "nbformat_minor": 0,
  "metadata": {
    "kernelspec": {
      "display_name": "Python 3",
      "language": "python",
      "name": "python3"
    },
    "language_info": {
      "codemirror_mode": {
        "name": "ipython",
        "version": 3
      },
      "file_extension": ".py",
      "mimetype": "text/x-python",
      "name": "python",
      "nbconvert_exporter": "python",
      "pygments_lexer": "ipython3",
      "version": "3.8.5"
    },
    "colab": {
      "name": "[캐글] 유튜브 인기 동영상.ipynb",
      "provenance": [],
      "collapsed_sections": [],
      "include_colab_link": true
    }
  },
  "cells": [
    {
      "cell_type": "markdown",
      "metadata": {
        "id": "view-in-github",
        "colab_type": "text"
      },
      "source": [
        "<a href=\"https://colab.research.google.com/github/JMK-18/statistics-Lecture/blob/main/%5B%EC%BA%90%EA%B8%80%5D_%EC%9C%A0%ED%8A%9C%EB%B8%8C_%EC%9D%B8%EA%B8%B0_%EB%8F%99%EC%98%81%EC%83%81.ipynb\" target=\"_parent\"><img src=\"https://colab.research.google.com/assets/colab-badge.svg\" alt=\"Open In Colab\"/></a>"
      ]
    },
    {
      "cell_type": "markdown",
      "metadata": {
        "id": "XBFNJqrGb-W8"
      },
      "source": [
        "# [Kaggle] 유튜브 인기 동영상 데이터 분석"
      ]
    },
    {
      "cell_type": "markdown",
      "metadata": {
        "id": "09aD9lzCb-XE"
      },
      "source": [
        "## 전처리"
      ]
    },
    {
      "cell_type": "code",
      "metadata": {
        "id": "sBO8r9nCb-XF"
      },
      "source": [
        "import pandas as pd\n",
        "import numpy as np\n",
        "import matplotlib.pyplot as plt\n",
        "import seaborn as sns\n",
        "import json\n",
        "from datetime import timedelta\n",
        "\n",
        "pd.options.display.float_format = \"{:.2f}\".format\n",
        "\n",
        "%matplotlib inline"
      ],
      "execution_count": null,
      "outputs": []
    },
    {
      "cell_type": "code",
      "metadata": {
        "id": "JY7Rz35hb-XG"
      },
      "source": [
        "data = pd.read_csv(\"C:/Users/User/Desktop/KRvideos.csv\", engine=\"python\")"
      ],
      "execution_count": null,
      "outputs": []
    },
    {
      "cell_type": "code",
      "metadata": {
        "id": "NmQTUsRdb-XH",
        "outputId": "53f0081a-34c8-4d7c-c690-bfe774aa6ab4"
      },
      "source": [
        "data.head()"
      ],
      "execution_count": null,
      "outputs": [
        {
          "output_type": "execute_result",
          "data": {
            "text/html": [
              "<div>\n",
              "<style scoped>\n",
              "    .dataframe tbody tr th:only-of-type {\n",
              "        vertical-align: middle;\n",
              "    }\n",
              "\n",
              "    .dataframe tbody tr th {\n",
              "        vertical-align: top;\n",
              "    }\n",
              "\n",
              "    .dataframe thead th {\n",
              "        text-align: right;\n",
              "    }\n",
              "</style>\n",
              "<table border=\"1\" class=\"dataframe\">\n",
              "  <thead>\n",
              "    <tr style=\"text-align: right;\">\n",
              "      <th></th>\n",
              "      <th>video_id</th>\n",
              "      <th>trending_date</th>\n",
              "      <th>title</th>\n",
              "      <th>channel_title</th>\n",
              "      <th>category_id</th>\n",
              "      <th>publish_time</th>\n",
              "      <th>tags</th>\n",
              "      <th>views</th>\n",
              "      <th>likes</th>\n",
              "      <th>dislikes</th>\n",
              "      <th>comment_count</th>\n",
              "      <th>thumbnail_link</th>\n",
              "      <th>comments_disabled</th>\n",
              "      <th>ratings_disabled</th>\n",
              "      <th>video_error_or_removed</th>\n",
              "      <th>description</th>\n",
              "    </tr>\n",
              "  </thead>\n",
              "  <tbody>\n",
              "    <tr>\n",
              "      <th>0</th>\n",
              "      <td>RxGQe4EeEpA</td>\n",
              "      <td>17.14.11</td>\n",
              "      <td>좋아 by 민서_윤종신_좋니 답가</td>\n",
              "      <td>라푸마코리아</td>\n",
              "      <td>22</td>\n",
              "      <td>2017-11-13T07:07:36.000Z</td>\n",
              "      <td>라푸마|\"윤종신\"|\"좋니\"|\"좋아\"|\"샬레\"|\"민서\"</td>\n",
              "      <td>156130</td>\n",
              "      <td>1422</td>\n",
              "      <td>40</td>\n",
              "      <td>272</td>\n",
              "      <td>https://i.ytimg.com/vi/RxGQe4EeEpA/default.jpg</td>\n",
              "      <td>FALSE</td>\n",
              "      <td>FALSE</td>\n",
              "      <td>FALSE</td>\n",
              "      <td>윤종신 '좋니'의 답가 '좋아' 최초 공개!\\n그 여자의 이야기를 지금 만나보세요....</td>\n",
              "    </tr>\n",
              "    <tr>\n",
              "      <th>1</th>\n",
              "      <td>hH7wVE8OlQ0</td>\n",
              "      <td>17.14.11</td>\n",
              "      <td>JSA 귀순 북한군 총격 부상</td>\n",
              "      <td>Edward</td>\n",
              "      <td>25</td>\n",
              "      <td>2017-11-13T10:59:16.000Z</td>\n",
              "      <td>JSA|\"귀순\"|\"북한군\"|\"총격\"|\"부상\"|\"JSA 귀순 북한군 총격 부상\"</td>\n",
              "      <td>76533</td>\n",
              "      <td>211</td>\n",
              "      <td>28</td>\n",
              "      <td>113</td>\n",
              "      <td>https://i.ytimg.com/vi/hH7wVE8OlQ0/default.jpg</td>\n",
              "      <td>FALSE</td>\n",
              "      <td>FALSE</td>\n",
              "      <td>FALSE</td>\n",
              "      <td>[채널A단독]北 병사 현재 '의식불명'… 혈압 떨어지는 중 \\n[채널A단독]우리측 ...</td>\n",
              "    </tr>\n",
              "    <tr>\n",
              "      <th>2</th>\n",
              "      <td>9V8bnWUmE9U</td>\n",
              "      <td>17.14.11</td>\n",
              "      <td>나몰라패밀리 운동화 영상 2탄 (빼빼로데이버젼)</td>\n",
              "      <td>나몰라패밀리 핫쇼</td>\n",
              "      <td>22</td>\n",
              "      <td>2017-11-11T07:16:08.000Z</td>\n",
              "      <td>아디다스|\"빼빼로\"|\"핫쇼\"|\"나몰라패밀리\"|\"대학로\"|\"공연\"</td>\n",
              "      <td>421409</td>\n",
              "      <td>5112</td>\n",
              "      <td>166</td>\n",
              "      <td>459</td>\n",
              "      <td>https://i.ytimg.com/vi/9V8bnWUmE9U/default.jpg</td>\n",
              "      <td>FALSE</td>\n",
              "      <td>FALSE</td>\n",
              "      <td>FALSE</td>\n",
              "      <td>퍼가실때 꼭 출처 부탁드려요</td>\n",
              "    </tr>\n",
              "    <tr>\n",
              "      <th>3</th>\n",
              "      <td>0_8py-t5R80</td>\n",
              "      <td>17.14.11</td>\n",
              "      <td>???????? 출국 현장, 놓치면 안되는 장면</td>\n",
              "      <td>미디어몽구</td>\n",
              "      <td>25</td>\n",
              "      <td>2017-11-12T11:19:52.000Z</td>\n",
              "      <td>이명박|\"이명박 출국금지\"|\"이명박 출국현장\"|\"이명박 바레인\"|\"이명박 대통령\"|...</td>\n",
              "      <td>222850</td>\n",
              "      <td>2093</td>\n",
              "      <td>173</td>\n",
              "      <td>1219</td>\n",
              "      <td>https://i.ytimg.com/vi/0_8py-t5R80/default.jpg</td>\n",
              "      <td>FALSE</td>\n",
              "      <td>FALSE</td>\n",
              "      <td>FALSE</td>\n",
              "      <td>다스는 누구겁니까 듣고 난 후 표정</td>\n",
              "    </tr>\n",
              "    <tr>\n",
              "      <th>4</th>\n",
              "      <td>bk55RbxiQdI</td>\n",
              "      <td>17.14.11</td>\n",
              "      <td>김장겸은 물러갔다 MBC 노조 환호와 눈물</td>\n",
              "      <td>NocutV</td>\n",
              "      <td>25</td>\n",
              "      <td>2017-11-13T11:08:59.000Z</td>\n",
              "      <td>nocutV|\"노컷V\"|\"CBS\"|\"mbc\"|\"김장겸\"|\"해임\"|\"허일후\"</td>\n",
              "      <td>84466</td>\n",
              "      <td>1094</td>\n",
              "      <td>109</td>\n",
              "      <td>450</td>\n",
              "      <td>https://i.ytimg.com/vi/bk55RbxiQdI/default.jpg</td>\n",
              "      <td>FALSE</td>\n",
              "      <td>FALSE</td>\n",
              "      <td>FALSE</td>\n",
              "      <td>김장겸 MBC 사장이 결국 해임됐다.\\n\\nMBC 대주주인 방송문화진흥회는 13일 ...</td>\n",
              "    </tr>\n",
              "  </tbody>\n",
              "</table>\n",
              "</div>"
            ],
            "text/plain": [
              "      video_id trending_date                       title channel_title  \\\n",
              "0  RxGQe4EeEpA      17.14.11          좋아 by 민서_윤종신_좋니 답가        라푸마코리아   \n",
              "1  hH7wVE8OlQ0      17.14.11            JSA 귀순 북한군 총격 부상        Edward   \n",
              "2  9V8bnWUmE9U      17.14.11  나몰라패밀리 운동화 영상 2탄 (빼빼로데이버젼)     나몰라패밀리 핫쇼   \n",
              "3  0_8py-t5R80      17.14.11  ???????? 출국 현장, 놓치면 안되는 장면         미디어몽구   \n",
              "4  bk55RbxiQdI      17.14.11     김장겸은 물러갔다 MBC 노조 환호와 눈물        NocutV   \n",
              "\n",
              "  category_id              publish_time  \\\n",
              "0          22  2017-11-13T07:07:36.000Z   \n",
              "1          25  2017-11-13T10:59:16.000Z   \n",
              "2          22  2017-11-11T07:16:08.000Z   \n",
              "3          25  2017-11-12T11:19:52.000Z   \n",
              "4          25  2017-11-13T11:08:59.000Z   \n",
              "\n",
              "                                                tags   views likes dislikes  \\\n",
              "0                      라푸마|\"윤종신\"|\"좋니\"|\"좋아\"|\"샬레\"|\"민서\"  156130  1422       40   \n",
              "1        JSA|\"귀순\"|\"북한군\"|\"총격\"|\"부상\"|\"JSA 귀순 북한군 총격 부상\"   76533   211       28   \n",
              "2                아디다스|\"빼빼로\"|\"핫쇼\"|\"나몰라패밀리\"|\"대학로\"|\"공연\"  421409  5112      166   \n",
              "3  이명박|\"이명박 출국금지\"|\"이명박 출국현장\"|\"이명박 바레인\"|\"이명박 대통령\"|...  222850  2093      173   \n",
              "4          nocutV|\"노컷V\"|\"CBS\"|\"mbc\"|\"김장겸\"|\"해임\"|\"허일후\"   84466  1094      109   \n",
              "\n",
              "  comment_count                                  thumbnail_link  \\\n",
              "0           272  https://i.ytimg.com/vi/RxGQe4EeEpA/default.jpg   \n",
              "1           113  https://i.ytimg.com/vi/hH7wVE8OlQ0/default.jpg   \n",
              "2           459  https://i.ytimg.com/vi/9V8bnWUmE9U/default.jpg   \n",
              "3          1219  https://i.ytimg.com/vi/0_8py-t5R80/default.jpg   \n",
              "4           450  https://i.ytimg.com/vi/bk55RbxiQdI/default.jpg   \n",
              "\n",
              "  comments_disabled ratings_disabled video_error_or_removed  \\\n",
              "0             FALSE            FALSE                  FALSE   \n",
              "1             FALSE            FALSE                  FALSE   \n",
              "2             FALSE            FALSE                  FALSE   \n",
              "3             FALSE            FALSE                  FALSE   \n",
              "4             FALSE            FALSE                  FALSE   \n",
              "\n",
              "                                         description  \n",
              "0  윤종신 '좋니'의 답가 '좋아' 최초 공개!\\n그 여자의 이야기를 지금 만나보세요....  \n",
              "1  [채널A단독]北 병사 현재 '의식불명'… 혈압 떨어지는 중 \\n[채널A단독]우리측 ...  \n",
              "2                                    퍼가실때 꼭 출처 부탁드려요  \n",
              "3                                다스는 누구겁니까 듣고 난 후 표정  \n",
              "4  김장겸 MBC 사장이 결국 해임됐다.\\n\\nMBC 대주주인 방송문화진흥회는 13일 ...  "
            ]
          },
          "metadata": {
            "tags": []
          },
          "execution_count": 39
        }
      ]
    },
    {
      "cell_type": "markdown",
      "metadata": {
        "id": "OTgzaw52b-XI"
      },
      "source": [
        "### video_id"
      ]
    },
    {
      "cell_type": "code",
      "metadata": {
        "id": "ZFV2dy7qb-XJ"
      },
      "source": [
        "#필요없는 데이터 칼럼 삭제\n",
        "df = data[:]\n",
        "for col in [\"thumbnail_link\", \"comments_disabled\", \"ratings_disabled\", \"video_error_or_removed\"]:\n",
        "    del df[col] "
      ],
      "execution_count": null,
      "outputs": []
    },
    {
      "cell_type": "code",
      "metadata": {
        "id": "oSDxhBkdb-XJ",
        "outputId": "aaa9888d-758a-424b-f7cd-0d4de59037c8"
      },
      "source": [
        "#video_id가 동영상의 고유값인가\n",
        "df[\"video_id\"].duplicated().value_counts()"
      ],
      "execution_count": null,
      "outputs": [
        {
          "output_type": "execute_result",
          "data": {
            "text/plain": [
              "True     15991\n",
              "False    13138\n",
              "Name: video_id, dtype: int64"
            ]
          },
          "metadata": {
            "tags": []
          },
          "execution_count": 45
        }
      ]
    },
    {
      "cell_type": "code",
      "metadata": {
        "id": "24KT6MhNb-XJ",
        "outputId": "240734de-702e-42c9-8369-28baa52436e7"
      },
      "source": [
        "#여러 일자에 인기동영상일 경우 일자별 데이터 발생. 처음으로 인기 동영상이 되었을 때의 데이터로만 분석 진행\n",
        "df = df.drop_duplicates([\"video_id\"])[:]\n",
        "df[\"video_id\"].duplicated().value_counts()"
      ],
      "execution_count": null,
      "outputs": [
        {
          "output_type": "execute_result",
          "data": {
            "text/plain": [
              "False    13138\n",
              "Name: video_id, dtype: int64"
            ]
          },
          "metadata": {
            "tags": []
          },
          "execution_count": 46
        }
      ]
    },
    {
      "cell_type": "markdown",
      "metadata": {
        "id": "ahspwJt9b-XK"
      },
      "source": [
        "## category_id & category\n",
        "\n",
        "- 텍스트로된 category열 생성_ category_id와 json파일 사용"
      ]
    },
    {
      "cell_type": "code",
      "metadata": {
        "id": "ToUvOtGMb-XK"
      },
      "source": [
        "id_to_category = {}\n",
        "\n",
        "with open(\"C:/Users/User/Desktop/KR_category_id.json\", \"r\") as f:\n",
        "    id_data = json.load(f)\n",
        "    for category in id_data[\"items\"]:\n",
        "        id_to_category[category[\"id\"]] = category[\"snippet\"][\"title\"]\n",
        "\n",
        "#id_to_category\n",
        "\n",
        "df[\"category_id\"] = df[\"category_id\"].astype(str)\n",
        "df.insert(4, \"category\",df[\"category_id\"].map(id_to_category))"
      ],
      "execution_count": null,
      "outputs": []
    },
    {
      "cell_type": "code",
      "metadata": {
        "id": "lsSyxoRLb-XM"
      },
      "source": [
        "df[\"category\"].loc[df[\"category\"].isnull() == True] = \"Nonprofits & Activism\""
      ],
      "execution_count": null,
      "outputs": []
    },
    {
      "cell_type": "code",
      "metadata": {
        "scrolled": true,
        "id": "tqMZ8rPNb-XM",
        "outputId": "ca37d7bf-9dc2-4f8b-f9e7-99d915e33580"
      },
      "source": [
        "df"
      ],
      "execution_count": null,
      "outputs": [
        {
          "output_type": "execute_result",
          "data": {
            "text/html": [
              "<div>\n",
              "<style scoped>\n",
              "    .dataframe tbody tr th:only-of-type {\n",
              "        vertical-align: middle;\n",
              "    }\n",
              "\n",
              "    .dataframe tbody tr th {\n",
              "        vertical-align: top;\n",
              "    }\n",
              "\n",
              "    .dataframe thead th {\n",
              "        text-align: right;\n",
              "    }\n",
              "</style>\n",
              "<table border=\"1\" class=\"dataframe\">\n",
              "  <thead>\n",
              "    <tr style=\"text-align: right;\">\n",
              "      <th></th>\n",
              "      <th>video_id</th>\n",
              "      <th>trending_date</th>\n",
              "      <th>title</th>\n",
              "      <th>channel_title</th>\n",
              "      <th>category</th>\n",
              "      <th>category_id</th>\n",
              "      <th>publish_time</th>\n",
              "      <th>tags</th>\n",
              "      <th>views</th>\n",
              "      <th>likes</th>\n",
              "      <th>dislikes</th>\n",
              "      <th>comment_count</th>\n",
              "      <th>description</th>\n",
              "    </tr>\n",
              "  </thead>\n",
              "  <tbody>\n",
              "    <tr>\n",
              "      <th>0</th>\n",
              "      <td>RxGQe4EeEpA</td>\n",
              "      <td>17.14.11</td>\n",
              "      <td>좋아 by 민서_윤종신_좋니 답가</td>\n",
              "      <td>라푸마코리아</td>\n",
              "      <td>People &amp; Blogs</td>\n",
              "      <td>22</td>\n",
              "      <td>2017-11-13T07:07:36.000Z</td>\n",
              "      <td>라푸마|\"윤종신\"|\"좋니\"|\"좋아\"|\"샬레\"|\"민서\"</td>\n",
              "      <td>156130</td>\n",
              "      <td>1422</td>\n",
              "      <td>40</td>\n",
              "      <td>272</td>\n",
              "      <td>윤종신 '좋니'의 답가 '좋아' 최초 공개!\\n그 여자의 이야기를 지금 만나보세요....</td>\n",
              "    </tr>\n",
              "    <tr>\n",
              "      <th>1</th>\n",
              "      <td>hH7wVE8OlQ0</td>\n",
              "      <td>17.14.11</td>\n",
              "      <td>JSA 귀순 북한군 총격 부상</td>\n",
              "      <td>Edward</td>\n",
              "      <td>News &amp; Politics</td>\n",
              "      <td>25</td>\n",
              "      <td>2017-11-13T10:59:16.000Z</td>\n",
              "      <td>JSA|\"귀순\"|\"북한군\"|\"총격\"|\"부상\"|\"JSA 귀순 북한군 총격 부상\"</td>\n",
              "      <td>76533</td>\n",
              "      <td>211</td>\n",
              "      <td>28</td>\n",
              "      <td>113</td>\n",
              "      <td>[채널A단독]北 병사 현재 '의식불명'… 혈압 떨어지는 중 \\n[채널A단독]우리측 ...</td>\n",
              "    </tr>\n",
              "    <tr>\n",
              "      <th>2</th>\n",
              "      <td>9V8bnWUmE9U</td>\n",
              "      <td>17.14.11</td>\n",
              "      <td>나몰라패밀리 운동화 영상 2탄 (빼빼로데이버젼)</td>\n",
              "      <td>나몰라패밀리 핫쇼</td>\n",
              "      <td>People &amp; Blogs</td>\n",
              "      <td>22</td>\n",
              "      <td>2017-11-11T07:16:08.000Z</td>\n",
              "      <td>아디다스|\"빼빼로\"|\"핫쇼\"|\"나몰라패밀리\"|\"대학로\"|\"공연\"</td>\n",
              "      <td>421409</td>\n",
              "      <td>5112</td>\n",
              "      <td>166</td>\n",
              "      <td>459</td>\n",
              "      <td>퍼가실때 꼭 출처 부탁드려요</td>\n",
              "    </tr>\n",
              "    <tr>\n",
              "      <th>3</th>\n",
              "      <td>0_8py-t5R80</td>\n",
              "      <td>17.14.11</td>\n",
              "      <td>???????? 출국 현장, 놓치면 안되는 장면</td>\n",
              "      <td>미디어몽구</td>\n",
              "      <td>News &amp; Politics</td>\n",
              "      <td>25</td>\n",
              "      <td>2017-11-12T11:19:52.000Z</td>\n",
              "      <td>이명박|\"이명박 출국금지\"|\"이명박 출국현장\"|\"이명박 바레인\"|\"이명박 대통령\"|...</td>\n",
              "      <td>222850</td>\n",
              "      <td>2093</td>\n",
              "      <td>173</td>\n",
              "      <td>1219</td>\n",
              "      <td>다스는 누구겁니까 듣고 난 후 표정</td>\n",
              "    </tr>\n",
              "    <tr>\n",
              "      <th>4</th>\n",
              "      <td>bk55RbxiQdI</td>\n",
              "      <td>17.14.11</td>\n",
              "      <td>김장겸은 물러갔다 MBC 노조 환호와 눈물</td>\n",
              "      <td>NocutV</td>\n",
              "      <td>News &amp; Politics</td>\n",
              "      <td>25</td>\n",
              "      <td>2017-11-13T11:08:59.000Z</td>\n",
              "      <td>nocutV|\"노컷V\"|\"CBS\"|\"mbc\"|\"김장겸\"|\"해임\"|\"허일후\"</td>\n",
              "      <td>84466</td>\n",
              "      <td>1094</td>\n",
              "      <td>109</td>\n",
              "      <td>450</td>\n",
              "      <td>김장겸 MBC 사장이 결국 해임됐다.\\n\\nMBC 대주주인 방송문화진흥회는 13일 ...</td>\n",
              "    </tr>\n",
              "    <tr>\n",
              "      <th>...</th>\n",
              "      <td>...</td>\n",
              "      <td>...</td>\n",
              "      <td>...</td>\n",
              "      <td>...</td>\n",
              "      <td>...</td>\n",
              "      <td>...</td>\n",
              "      <td>...</td>\n",
              "      <td>...</td>\n",
              "      <td>...</td>\n",
              "      <td>...</td>\n",
              "      <td>...</td>\n",
              "      <td>...</td>\n",
              "      <td>...</td>\n",
              "    </tr>\n",
              "    <tr>\n",
              "      <th>29119</th>\n",
              "      <td>TX52YlufjEk</td>\n",
              "      <td>18.03.05</td>\n",
              "      <td>일본처자의 힙업운동노하우 ㄷㄷ, 심장이 쿵쾅거리는 영상들</td>\n",
              "      <td>Funny매드무비</td>\n",
              "      <td>Comedy</td>\n",
              "      <td>23</td>\n",
              "      <td>2018-05-02T08:25:27.000Z</td>\n",
              "      <td>Funny매드무비|\"게임\"|\"클래시로얄\"|\"배틀그라운드\"</td>\n",
              "      <td>92616</td>\n",
              "      <td>119</td>\n",
              "      <td>43</td>\n",
              "      <td>56</td>\n",
              "      <td>영상이 즐거우셨다면 좋아요와 구독하기 버튼을 꾸~욱 눌러주세요구독하기 https:/...</td>\n",
              "    </tr>\n",
              "    <tr>\n",
              "      <th>29120</th>\n",
              "      <td>DUXQgwCb1rQ</td>\n",
              "      <td>18.03.05</td>\n",
              "      <td>연애의 참견 - 12살 연상 여친, 남친의 엄마에게 들키다?!.20180428</td>\n",
              "      <td>KBSN Channel</td>\n",
              "      <td>Entertainment</td>\n",
              "      <td>24</td>\n",
              "      <td>2018-05-01T12:03:54.000Z</td>\n",
              "      <td>김숙|\"최화정\"|\"주우재\"|\"곽정은\"|\"연애\"|\"연애의참견\"|\"참견\"|\"12살\"|\"...</td>\n",
              "      <td>67634</td>\n",
              "      <td>356</td>\n",
              "      <td>11</td>\n",
              "      <td>136</td>\n",
              "      <td>12살 연상 여친, 남친의 엄마에게 들키다?!</td>\n",
              "    </tr>\n",
              "    <tr>\n",
              "      <th>29121</th>\n",
              "      <td>sry25ntQrVw</td>\n",
              "      <td>18.03.05</td>\n",
              "      <td>??버드리??5월1일 야간  함평나비축제  초청 공연</td>\n",
              "      <td>금강산</td>\n",
              "      <td>People &amp; Blogs</td>\n",
              "      <td>22</td>\n",
              "      <td>2018-05-01T17:00:40.000Z</td>\n",
              "      <td>품바여왕 버드리|\"품바사랑 버드리\"|\"네이버 버드리\"|\"카카오톡 버드리\"|\"페이스북...</td>\n",
              "      <td>26303</td>\n",
              "      <td>237</td>\n",
              "      <td>21</td>\n",
              "      <td>30</td>\n",
              "      <td>$2018버드리 함평나비축제  초청 공연 $    품바-버드리님 * 품바사랑 버드리...</td>\n",
              "    </tr>\n",
              "    <tr>\n",
              "      <th>29122</th>\n",
              "      <td>vp8GIfY4C2w</td>\n",
              "      <td>18.03.05</td>\n",
              "      <td>Roma vs Liverpool 4-2 - Highlights &amp; All Goals...</td>\n",
              "      <td>xJOEx ????????????</td>\n",
              "      <td>Sports</td>\n",
              "      <td>17</td>\n",
              "      <td>2018-05-02T21:16:13.000Z</td>\n",
              "      <td>[none]</td>\n",
              "      <td>1938370</td>\n",
              "      <td>7141</td>\n",
              "      <td>653</td>\n",
              "      <td>886</td>\n",
              "      <td>Roma vs Liverpool 4-2 - Highlights &amp; All Goals...</td>\n",
              "    </tr>\n",
              "    <tr>\n",
              "      <th>29128</th>\n",
              "      <td>GcrQsyBzr48</td>\n",
              "      <td>18.03.05</td>\n",
              "      <td>제90편 [특집생방송] 조원진 돌직구 - 문재인 김정숙 향해 ㅁㅊㅅㄲ  ㄴㅂㄴㅂ 핵...</td>\n",
              "      <td>민병일의시사포커스</td>\n",
              "      <td>News &amp; Politics</td>\n",
              "      <td>25</td>\n",
              "      <td>2018-05-02T11:52:24.000Z</td>\n",
              "      <td>[none]</td>\n",
              "      <td>13718</td>\n",
              "      <td>1215</td>\n",
              "      <td>99</td>\n",
              "      <td>60</td>\n",
              "      <td>여러분들의 작은 정성이 민병일의 시사포커스를 이시대의 정론방송으로 키웁니다! 여러분...</td>\n",
              "    </tr>\n",
              "  </tbody>\n",
              "</table>\n",
              "<p>13138 rows × 13 columns</p>\n",
              "</div>"
            ],
            "text/plain": [
              "          video_id trending_date  \\\n",
              "0      RxGQe4EeEpA      17.14.11   \n",
              "1      hH7wVE8OlQ0      17.14.11   \n",
              "2      9V8bnWUmE9U      17.14.11   \n",
              "3      0_8py-t5R80      17.14.11   \n",
              "4      bk55RbxiQdI      17.14.11   \n",
              "...            ...           ...   \n",
              "29119  TX52YlufjEk      18.03.05   \n",
              "29120  DUXQgwCb1rQ      18.03.05   \n",
              "29121  sry25ntQrVw      18.03.05   \n",
              "29122  vp8GIfY4C2w      18.03.05   \n",
              "29128  GcrQsyBzr48      18.03.05   \n",
              "\n",
              "                                                   title       channel_title  \\\n",
              "0                                     좋아 by 민서_윤종신_좋니 답가              라푸마코리아   \n",
              "1                                       JSA 귀순 북한군 총격 부상              Edward   \n",
              "2                             나몰라패밀리 운동화 영상 2탄 (빼빼로데이버젼)           나몰라패밀리 핫쇼   \n",
              "3                             ???????? 출국 현장, 놓치면 안되는 장면               미디어몽구   \n",
              "4                                김장겸은 물러갔다 MBC 노조 환호와 눈물              NocutV   \n",
              "...                                                  ...                 ...   \n",
              "29119                    일본처자의 힙업운동노하우 ㄷㄷ, 심장이 쿵쾅거리는 영상들           Funny매드무비   \n",
              "29120        연애의 참견 - 12살 연상 여친, 남친의 엄마에게 들키다?!.20180428        KBSN Channel   \n",
              "29121                      ??버드리??5월1일 야간  함평나비축제  초청 공연                 금강산   \n",
              "29122  Roma vs Liverpool 4-2 - Highlights & All Goals...  xJOEx ????????????   \n",
              "29128  제90편 [특집생방송] 조원진 돌직구 - 문재인 김정숙 향해 ㅁㅊㅅㄲ  ㄴㅂㄴㅂ 핵...           민병일의시사포커스   \n",
              "\n",
              "              category category_id              publish_time  \\\n",
              "0       People & Blogs          22  2017-11-13T07:07:36.000Z   \n",
              "1      News & Politics          25  2017-11-13T10:59:16.000Z   \n",
              "2       People & Blogs          22  2017-11-11T07:16:08.000Z   \n",
              "3      News & Politics          25  2017-11-12T11:19:52.000Z   \n",
              "4      News & Politics          25  2017-11-13T11:08:59.000Z   \n",
              "...                ...         ...                       ...   \n",
              "29119           Comedy          23  2018-05-02T08:25:27.000Z   \n",
              "29120    Entertainment          24  2018-05-01T12:03:54.000Z   \n",
              "29121   People & Blogs          22  2018-05-01T17:00:40.000Z   \n",
              "29122           Sports          17  2018-05-02T21:16:13.000Z   \n",
              "29128  News & Politics          25  2018-05-02T11:52:24.000Z   \n",
              "\n",
              "                                                    tags    views likes  \\\n",
              "0                          라푸마|\"윤종신\"|\"좋니\"|\"좋아\"|\"샬레\"|\"민서\"   156130  1422   \n",
              "1            JSA|\"귀순\"|\"북한군\"|\"총격\"|\"부상\"|\"JSA 귀순 북한군 총격 부상\"    76533   211   \n",
              "2                    아디다스|\"빼빼로\"|\"핫쇼\"|\"나몰라패밀리\"|\"대학로\"|\"공연\"   421409  5112   \n",
              "3      이명박|\"이명박 출국금지\"|\"이명박 출국현장\"|\"이명박 바레인\"|\"이명박 대통령\"|...   222850  2093   \n",
              "4              nocutV|\"노컷V\"|\"CBS\"|\"mbc\"|\"김장겸\"|\"해임\"|\"허일후\"    84466  1094   \n",
              "...                                                  ...      ...   ...   \n",
              "29119                    Funny매드무비|\"게임\"|\"클래시로얄\"|\"배틀그라운드\"    92616   119   \n",
              "29120  김숙|\"최화정\"|\"주우재\"|\"곽정은\"|\"연애\"|\"연애의참견\"|\"참견\"|\"12살\"|\"...    67634   356   \n",
              "29121  품바여왕 버드리|\"품바사랑 버드리\"|\"네이버 버드리\"|\"카카오톡 버드리\"|\"페이스북...    26303   237   \n",
              "29122                                             [none]  1938370  7141   \n",
              "29128                                             [none]    13718  1215   \n",
              "\n",
              "      dislikes comment_count  \\\n",
              "0           40           272   \n",
              "1           28           113   \n",
              "2          166           459   \n",
              "3          173          1219   \n",
              "4          109           450   \n",
              "...        ...           ...   \n",
              "29119       43            56   \n",
              "29120       11           136   \n",
              "29121       21            30   \n",
              "29122      653           886   \n",
              "29128       99            60   \n",
              "\n",
              "                                             description  \n",
              "0      윤종신 '좋니'의 답가 '좋아' 최초 공개!\\n그 여자의 이야기를 지금 만나보세요....  \n",
              "1      [채널A단독]北 병사 현재 '의식불명'… 혈압 떨어지는 중 \\n[채널A단독]우리측 ...  \n",
              "2                                        퍼가실때 꼭 출처 부탁드려요  \n",
              "3                                    다스는 누구겁니까 듣고 난 후 표정  \n",
              "4      김장겸 MBC 사장이 결국 해임됐다.\\n\\nMBC 대주주인 방송문화진흥회는 13일 ...  \n",
              "...                                                  ...  \n",
              "29119  영상이 즐거우셨다면 좋아요와 구독하기 버튼을 꾸~욱 눌러주세요구독하기 https:/...  \n",
              "29120                          12살 연상 여친, 남친의 엄마에게 들키다?!  \n",
              "29121  $2018버드리 함평나비축제  초청 공연 $    품바-버드리님 * 품바사랑 버드리...  \n",
              "29122  Roma vs Liverpool 4-2 - Highlights & All Goals...  \n",
              "29128  여러분들의 작은 정성이 민병일의 시사포커스를 이시대의 정론방송으로 키웁니다! 여러분...  \n",
              "\n",
              "[13138 rows x 13 columns]"
            ]
          },
          "metadata": {
            "tags": []
          },
          "execution_count": 50
        }
      ]
    },
    {
      "cell_type": "code",
      "metadata": {
        "id": "GIuvMA1db-XM",
        "outputId": "48494134-ba25-47fc-ffc9-cac261c55e49"
      },
      "source": [
        "df.to_excel('한국 유튜브.xlsx')"
      ],
      "execution_count": null,
      "outputs": [
        {
          "output_type": "stream",
          "text": [
            "C:\\Users\\User\\anaconda3\\lib\\site-packages\\xlsxwriter\\worksheet.py:941: UserWarning: Ignoring URL 'http://readyplayeronemovie.com\\nhttp://facebook.com/readyplayerone\\nhttp://twitter.com/readyplayerone\\nhttp://instagram.com/readyplayerone\\n\\n--%20\\n\\nFrom%20filmmaker%20Steven%20Spielberg%20comes%20the%20science%20fiction%20action%20adventure%20“Ready%20Player%20One,”%20based%20on%20Ernest%20Cline’s%20bestseller%20of%20the%20same%20name,%20which%20has%20become%20a%20worldwide%20phenomenon.%20%20\\n\\nThe%20film%20is%20set%20in%202045,%20with%20the%20world%20on%20the%20brink%20of%20chaos%20and%20collapse.%20%20But%20the%20people%20have%20found%20salvation%20in%20the%20OASIS,%20an%20expansive%20virtual%20reality%20universe%20created%20by%20the%20brilliant%20and%20eccentric%20James%20Halliday%20(Mark%20Rylance).%20%20When%20Halliday%20dies,%20he%20leaves%20his%20immense%20fortune%20to%20the%20first%20person%20to%20find%20a%20digital%20Easter%20egg%20he%20has%20hidden%20somewhere%20in%20the%20OASIS,%20sparking%20a%20contest%20that%20grips%20the%20entire%20world.%20%20When%20an%20unlikely%20young%20hero%20named%20Wade%20Watts%20(Tye%20Sheridan)%20decides%20to%20join%20the%20contest,%20he%20is%20hurled%20into%20a%20breakneck,%20reality-bending%20treasure%20hunt%20through%20a%20fantastical%20universe%20of%20mystery,%20discovery%20and%20danger.\\n\\nSpielberg%20directed%20the%20film%20from%20a%20screenplay%20by%20Zak%20Penn%20and%20Ernest%20Cline.%20%20The%20film%20was%20produced%20by%20Donald%20De%20Line,%20Spielberg,%20Kristie%20Macosko%20Krieger%20and%20Dan%20Farah;%20with%20Adam%20Somner,%20Daniel%20Lupi,%20Chris%20deFaria%20and%20Bruce%20Berman%20serving%20as%20executive%20producers.%20%20\\n\\n“Ready%20Player%20One”%20stars%20Tye%20Sheridan%20(“X-Men:%20Apocalypse,”%20“Mud”),%20Olivia%20Cooke%20(“Me%20and%20Earl%20and%20the%20Dying%20Girl,”%20“Bates%20Motel”),%20Ben%20Mendelsohn%20(“Rogue%20One%20?%20A%20Star%20Wars%20Story,”%20“Bloodline”)%20and%20T.J.%20Miller%20(“Deadpool,”%20“Silicon%20Valley”),%20with%20Simon%20Pegg%20(the%20“Star%20Trek”%20movies,%20the%20“Mission:%20Impossible”%20movies)%20and%20Oscar%20winner%20Mark%20Rylance%20(“Bridge%20of%20Spies,”%20“Dunkirk”).%20%20\\n\\nBehind%20the%20scenes,%20three-time%20Oscar%20winner%20Spielberg%20(“Schindler’s%20List,”%20“Saving%20Private%20Ryan”)%20reunited%20his%20creative%20team%20from%20“Bridge%20of%20Spies,”%20including%20Oscar-winning%20director%20of%20photography%20Janusz%20Kaminski%20(“Schindler’s%20List,”%20“Saving%20Private%20Ryan”),%20Oscar-winning%20production%20designer%20Adam%20Stockhausen%20(“The%20Grand%20Budapest%20Hotel”),%20Oscar-winning%20editor%20Michael%20Kahn%20(“Saving%20Private%20Ryan,”%20“Raiders%20of%20the%20Lost%20Ark”)%20and%20Sarah%20Broshar%20(“The%20Post”),%20and%20costume%20designer%20Kasia%20Walicka-Maimone%20(“Moonrise%20Kingdom”).%20%20The%20music%20is%20by%20Oscar-nominated%20composer%20Alan%20Silvestri%20(the%20“Back%20to%20the%20Future”%20films,%20“Forrest%20Gump”).\\n\\nWarner%20Bros.%20Pictures%20and%20Amblin%20Entertainment%20present,%20in%20association%20with%20Village%20Roadshow%20Pictures,%20an%20Amblin%20Production,%20a%20De%20Line%20Pictures%20Production,%20a%20Steven%20Spielberg%20Film,%20“Ready%20Player%20One.”\\n\\nSlated%20for%20release%20on%20March%2030,%202018,%20the%20film%20will%20be%20distributed%20by%20Warner%20Bros.%20Pictures,%20a%20Warner%20Bros.%20Entertainment%20Company,%20and%20in%20select%20territories%20by%20Village%20Roadshow%20Pictures.' with link or location/anchor > 2079 characters since it exceeds Excel's limit for URLS\n",
            "  warn(\"Ignoring URL '%s' with link or location/anchor > %d \"\n",
            "C:\\Users\\User\\anaconda3\\lib\\site-packages\\xlsxwriter\\worksheet.py:941: UserWarning: Ignoring URL 'https://youtu.be/D3gQxvCAhRc\\nU23%20VI?T%20NAM%20,%20TRAO%20GI?I%20T?I%20S?N%20M?%20??NH%20H?%20N?I%20KHO?NG%2045%20TRI?U%20NG??I\\nFACEBOOK%20HU?N%20NH?%20:https://www.facebook.com/profile.php?id=100009392107009\\n▶THEO%20D?I%20FACEBOOK%20:http://bit.ly/2pMwb7V\\nClub%20Music%20Video%20145.738.876%20l??t%20xem%20H?%20Phong\\n1%20ph?t%20tr??c\\nGIANG%20H?%20VI?T%20NAM%20LONG%20X?M%20V?%20B?I%20HU?N%20CH?P%20C?%20T?%20TH?NG%20N?O%20TRUY%20T?M%20QU?CH%20D?NG%2020%20TRI?U%20??\\nT?ng%20H?p|HU?N%20HOA%20H?NG%20NH?Y%20SI?U%20D?O%20|%20B?i%20n?y%20ch?i%20th?%20ph?%20th?i%20r?i%202016|%202017|%202018%20\\n?ng%20h?%20hu?n%20n?%20\\nhttp://bit.ly/2xZWZ9z\\nhttp://bit.ly/2y1gXRq\\nhttp://bit.ly/2xZMinv\\nhttp://bit.ly/2yud1eL\\nhttp://bit.ly/2y4RIzd\\nhttp://bit.ly/2fXcyuj\\nhttp://bit.ly/2wCC2ji\\nhttp://bit.ly/2y4Gz1Q\\n▶??NG%20K?%20K?NH%20/%20http://bit.ly/2r7N4xG\\n▶FAN%20P?T%20:%20http://bit.ly/2r7YAsO\\n▶http://bit.ly/2qHOuz5\\n----------------------------------------------------------------------------------\\n▶ae%20??NG%20K?%20K?NH%20NHI?T%20T?NH\\nhttps://www.youtube.com/watch?v=iyCWfUaNQcY\\n▶●%20Like%20!%20Subcribe%20!%20Comment%20!%20Thanks%20For%20Watching%20ツ\\n-------T?m%20S?%20Bu?n%20Nh?ng%20Th?t%20L?ng-------\\nC?ng%20l?%20ng??i%20vi?t%20nam%20m?%20sao%20c?%20nh?ng%20b?n%20k?%20v?y%20.fb%20t?i%20ch?i%20đ?%20giao%20l?u%20k?t%20n?i%20y?u%20th??ng%20đ?%20chia%20s?%20bu?n%20vui%20th?m%20b?n%20b?t%20th?%20m?%20sao%20c?c%20b?n%20k?%20v?y%20.t?i%20ki?m%20ti?n%20tr?n%20fb%20c?ng%20l?%20ti?n%20m?%20h?i%20x??ng%20m?u%20m?%20.t?i%20c?ng%20ph?i%20lo%20cho%20gia%20đ?nh%20v?%20b?n%20th?n%20.v?%20lo%20cho%20r?t%20nhi?u%20ae%20t?i%20.nh?ng%20b?n%20n?o%20ko%20th?ch%20t?i%20th?%20v?o%20fb%20t?i%20l?m%20chi%20cho%20m?t%20.gh?t%20t?i%20th?%20đ?ng%20ch??c%20m?t%20t?i%20m?%20th?%20hi?n%20hay%20đ?nh%20ch?m%20g?%20t?i%20ti?p%20.sao%20c?%20ph?i%20c?n%20đ?ng%20sau%20l?ng%20v?%20th?%20hi?n%20ti?u%20nh?n%20v?y%20l?m%20chi%20.fb%20kho?%20l?i%20m?%20th?i%20m?%20l?m%20th?%20c?c%20b?n%20ch?%20th?m%20t?c%20m?%20th?i%20l?m%20chi%20đc%20t?i.\\nTi?n%20t?i%20n?i%20lu?n%20m?y%20b?n%20l?m%20d?ch%20v?%20fb%20n?y%20\\nBa%20m?%20c?c%20b?n%20kh?%20kh?n%20l?m%20m?i%20đe%20ra%20đc%20c?c%20b?n%20cho%20?n%20h?c%20.đ?%20gi?p%20c?c%20b?n%20gia%20đ?nh%20x?%20h?i%20đ?t%20n??c%20.c?c%20b?n%20c?%20bi?t%20h?n%20ng??i%20ta%20v?%20fb%20c?c%20b?n%20c?ng%20v?%20cu?c%20s?ng%20ki?m%20ti?n%20th?%20c?ng%20ph?i%20đ?ng%20l??ng%20t?m%20.v?%20ph?%20h?p%20nh?ng%20g?%20b?n%20gi?p%20ng??i%20ta\\n??ng%20v?%20ti?n%20b?n%20d?%20l??ng%20t?m%20.danh%20d?%20.\\nNg?o%20ko%20đc%20h?n%20?c%20gi?%20?c%20b?o%20.h?i%20ng??i%20c?%20ng??i%20' with link or location/anchor > 2079 characters since it exceeds Excel's limit for URLS\n",
            "  warn(\"Ignoring URL '%s' with link or location/anchor > %d \"\n"
          ],
          "name": "stderr"
        }
      ]
    },
    {
      "cell_type": "code",
      "metadata": {
        "id": "Ttm3OIvFb-XN"
      },
      "source": [
        ""
      ],
      "execution_count": null,
      "outputs": []
    }
  ]
}
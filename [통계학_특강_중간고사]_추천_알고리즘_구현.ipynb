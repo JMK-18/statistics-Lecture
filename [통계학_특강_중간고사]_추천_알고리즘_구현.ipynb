{
  "nbformat": 4,
  "nbformat_minor": 0,
  "metadata": {
    "kernelspec": {
      "display_name": "Python 3",
      "language": "python",
      "name": "python3"
    },
    "language_info": {
      "codemirror_mode": {
        "name": "ipython",
        "version": 3
      },
      "file_extension": ".py",
      "mimetype": "text/x-python",
      "name": "python",
      "nbconvert_exporter": "python",
      "pygments_lexer": "ipython3",
      "version": "3.8.5"
    },
    "colab": {
      "name": "[통계학 특강_중간고사] 추천 알고리즘 구현.ipynb",
      "provenance": [],
      "toc_visible": true,
      "include_colab_link": true
    }
  },
  "cells": [
    {
      "cell_type": "markdown",
      "metadata": {
        "id": "view-in-github",
        "colab_type": "text"
      },
      "source": [
        "<a href=\"https://colab.research.google.com/github/JMK-18/statistics-Lecture/blob/main/%5B%ED%86%B5%EA%B3%84%ED%95%99_%ED%8A%B9%EA%B0%95_%EC%A4%91%EA%B0%84%EA%B3%A0%EC%82%AC%5D_%EC%B6%94%EC%B2%9C_%EC%95%8C%EA%B3%A0%EB%A6%AC%EC%A6%98_%EA%B5%AC%ED%98%84.ipynb\" target=\"_parent\"><img src=\"https://colab.research.google.com/assets/colab-badge.svg\" alt=\"Open In Colab\"/></a>"
      ]
    },
    {
      "cell_type": "markdown",
      "metadata": {
        "id": "SUO5GEztb8eZ"
      },
      "source": [
        "# 추천 시스템 (Recommendation System)\n",
        "\n",
        "- 친사용자인 동시에 친기업 서비스\n",
        "- 자신이 몰랐던 취향도 추천해줌. 이러한 추천 시스템을 경험한 사용자는 그 서비스의 충성 고객이 될 확률이 높아짐. 그러면 더욱 더 많은 데이터가 쌓이게 되고 더욱 견고한 서비스가 구축이 됨.\n",
        "\n",
        "[Reference] https://lsjsj92.tistory.com/563"
      ]
    },
    {
      "cell_type": "markdown",
      "metadata": {
        "id": "lgWD8gGHb8eg"
      },
      "source": [
        "# 1) 개념 이해"
      ]
    },
    {
      "cell_type": "markdown",
      "metadata": {
        "id": "wyl92fI0b8eh"
      },
      "source": [
        "## 추천 시스템의 기본 유형\n",
        "\n",
        "- Content based Filtering (콘텐츠 기반 필터링) : 초기에 많이 사용\n",
        "- Collaborative Filtering (협업 필터링) : 메모리 협업 / 필터링 잠재 요인 협업 (현재 많이 사용) \n"
      ]
    },
    {
      "cell_type": "markdown",
      "metadata": {
        "id": "JBwvbJqrb8ei"
      },
      "source": [
        "## 메모리(Memory based) Collaborative Filtering\n",
        "\n",
        "새로운 영화가 나오면 다른 사람들의 평점이나 평가를 들어본 뒤 영화를 선택하는 경우. **사용자 행동 양식(User Behavior)** 을 기반으로 추천해주는 것이 Collaborative Filtering.\n",
        "\n",
        "- 목표 : 사용자-아이템 행렬에서 사용자가 아직 평가하지 않은 아이템을 예측"
      ]
    },
    {
      "cell_type": "markdown",
      "metadata": {
        "id": "cADSScjNb8ei"
      },
      "source": [
        "## 행렬 분해(Matrix Factorization) Collaborative Filtering\n",
        "\n",
        "행렬 분해를 이용한 협업 필터링. 대규모 다차원 행렬을 SVD와 같은 차원 감소 기법으로 분해하는 과정에서 잠재 요인(Latent Factor)을 뽑아내는 방법.\n",
        "\n",
        "아이템 기반 협업 필터링보다 더 많이 사용. 그 이유는? **공간**에 있음!"
      ]
    },
    {
      "cell_type": "markdown",
      "metadata": {
        "id": "q3BUMN4bb8ej"
      },
      "source": [
        "# 1-1) 전처리\n",
        "\n",
        "전처리를 마친 최종 엑셀 파일로 2) 알고리즘 구축 진행.\n",
        "코드 진행 시간+복잡성을 줄이기 위해 해당 부분은 링크 첨부\n",
        "\n",
        "\n",
        "-> https://github.com/JMK-18/statistics-Lecture/blob/main/%5B%EC%BA%90%EA%B8%80%5D_%EC%9C%A0%ED%8A%9C%EB%B8%8C_%EC%9D%B8%EA%B8%B0_%EB%8F%99%EC%98%81%EC%83%81.ipynb"
      ]
    },
    {
      "cell_type": "markdown",
      "metadata": {
        "id": "UBX7UC1bb8ej"
      },
      "source": [
        "# 2) 콘텐츠 기반 필터링"
      ]
    },
    {
      "cell_type": "markdown",
      "metadata": {
        "id": "upY-Xd4Xb8ek"
      },
      "source": [
        "- 데이터셋 : https://www.kaggle.com/datasnaek/youtube-new\n",
        "\n",
        "동일 category내 조회수가 높은 것을 기준으로 추천하는 시스템"
      ]
    },
    {
      "cell_type": "code",
      "metadata": {
        "id": "QBEoHJzFb8ek"
      },
      "source": [
        "import pandas as pd\n",
        "import numpy as np\n",
        "import matplotlib.pyplot as plt\n",
        "import seaborn as sns\n",
        "from ast import literal_eval\n",
        "from sklearn.feature_extraction.text import TfidfVectorizer\n",
        "from sklearn.feature_extraction.text import CountVectorizer\n",
        "from sklearn.metrics.pairwise import cosine_similarity"
      ],
      "execution_count": null,
      "outputs": []
    },
    {
      "cell_type": "code",
      "metadata": {
        "id": "UcaujvIwb8el",
        "outputId": "6d4f746d-710d-499f-a6ec-cfca38b242a5"
      },
      "source": [
        "data = pd.read_csv(\"한국 유튜브.csv\")\n",
        "data = data[['video_id','category','views','likes','title','channel_title','description','tags']]\n",
        "data.head()"
      ],
      "execution_count": null,
      "outputs": [
        {
          "output_type": "execute_result",
          "data": {
            "text/html": [
              "<div>\n",
              "<style scoped>\n",
              "    .dataframe tbody tr th:only-of-type {\n",
              "        vertical-align: middle;\n",
              "    }\n",
              "\n",
              "    .dataframe tbody tr th {\n",
              "        vertical-align: top;\n",
              "    }\n",
              "\n",
              "    .dataframe thead th {\n",
              "        text-align: right;\n",
              "    }\n",
              "</style>\n",
              "<table border=\"1\" class=\"dataframe\">\n",
              "  <thead>\n",
              "    <tr style=\"text-align: right;\">\n",
              "      <th></th>\n",
              "      <th>video_id</th>\n",
              "      <th>category</th>\n",
              "      <th>views</th>\n",
              "      <th>likes</th>\n",
              "      <th>title</th>\n",
              "      <th>channel_title</th>\n",
              "      <th>description</th>\n",
              "      <th>tags</th>\n",
              "    </tr>\n",
              "  </thead>\n",
              "  <tbody>\n",
              "    <tr>\n",
              "      <th>0</th>\n",
              "      <td>RxGQe4EeEpA</td>\n",
              "      <td>People &amp; Blogs</td>\n",
              "      <td>156130</td>\n",
              "      <td>1422</td>\n",
              "      <td>좋아 by 민서_윤종신_좋니 답가</td>\n",
              "      <td>라푸마코리아</td>\n",
              "      <td>윤종신 '좋니'의 답가 '좋아' 최초 공개!\\n그 여자의 이야기를 지금 만나보세요....</td>\n",
              "      <td>라푸마|\"윤종신\"|\"좋니\"|\"좋아\"|\"샬레\"|\"민서\"</td>\n",
              "    </tr>\n",
              "    <tr>\n",
              "      <th>1</th>\n",
              "      <td>hH7wVE8OlQ0</td>\n",
              "      <td>News &amp; Politics</td>\n",
              "      <td>76533</td>\n",
              "      <td>211</td>\n",
              "      <td>JSA 귀순 북한군 총격 부상</td>\n",
              "      <td>Edward</td>\n",
              "      <td>[채널A단독]北 병사 현재 '의식불명'… 혈압 떨어지는 중 \\n[채널A단독]우리측 ...</td>\n",
              "      <td>JSA|\"귀순\"|\"북한군\"|\"총격\"|\"부상\"|\"JSA 귀순 북한군 총격 부상\"</td>\n",
              "    </tr>\n",
              "    <tr>\n",
              "      <th>2</th>\n",
              "      <td>9V8bnWUmE9U</td>\n",
              "      <td>People &amp; Blogs</td>\n",
              "      <td>421409</td>\n",
              "      <td>5112</td>\n",
              "      <td>나몰라패밀리 운동화 영상 2탄 (빼빼로데이버젼)</td>\n",
              "      <td>나몰라패밀리 핫쇼</td>\n",
              "      <td>퍼가실때 꼭 출처 부탁드려요</td>\n",
              "      <td>아디다스|\"빼빼로\"|\"핫쇼\"|\"나몰라패밀리\"|\"대학로\"|\"공연\"</td>\n",
              "    </tr>\n",
              "    <tr>\n",
              "      <th>3</th>\n",
              "      <td>0_8py-t5R80</td>\n",
              "      <td>News &amp; Politics</td>\n",
              "      <td>222850</td>\n",
              "      <td>2093</td>\n",
              "      <td>???????? 출국 현장, 놓치면 안되는 장면</td>\n",
              "      <td>미디어몽구</td>\n",
              "      <td>다스는 누구겁니까 듣고 난 후 표정</td>\n",
              "      <td>이명박|\"이명박 출국금지\"|\"이명박 출국현장\"|\"이명박 바레인\"|\"이명박 대통령\"|...</td>\n",
              "    </tr>\n",
              "    <tr>\n",
              "      <th>4</th>\n",
              "      <td>bk55RbxiQdI</td>\n",
              "      <td>News &amp; Politics</td>\n",
              "      <td>84466</td>\n",
              "      <td>1094</td>\n",
              "      <td>김장겸은 물러갔다 MBC 노조 환호와 눈물</td>\n",
              "      <td>NocutV</td>\n",
              "      <td>김장겸 MBC 사장이 결국 해임됐다.\\n\\nMBC 대주주인 방송문화진흥회는 13일 ...</td>\n",
              "      <td>nocutV|\"노컷V\"|\"CBS\"|\"mbc\"|\"김장겸\"|\"해임\"|\"허일후\"</td>\n",
              "    </tr>\n",
              "  </tbody>\n",
              "</table>\n",
              "</div>"
            ],
            "text/plain": [
              "      video_id         category   views likes                       title  \\\n",
              "0  RxGQe4EeEpA   People & Blogs  156130  1422          좋아 by 민서_윤종신_좋니 답가   \n",
              "1  hH7wVE8OlQ0  News & Politics   76533   211            JSA 귀순 북한군 총격 부상   \n",
              "2  9V8bnWUmE9U   People & Blogs  421409  5112  나몰라패밀리 운동화 영상 2탄 (빼빼로데이버젼)   \n",
              "3  0_8py-t5R80  News & Politics  222850  2093  ???????? 출국 현장, 놓치면 안되는 장면   \n",
              "4  bk55RbxiQdI  News & Politics   84466  1094     김장겸은 물러갔다 MBC 노조 환호와 눈물   \n",
              "\n",
              "  channel_title                                        description  \\\n",
              "0        라푸마코리아  윤종신 '좋니'의 답가 '좋아' 최초 공개!\\n그 여자의 이야기를 지금 만나보세요....   \n",
              "1        Edward  [채널A단독]北 병사 현재 '의식불명'… 혈압 떨어지는 중 \\n[채널A단독]우리측 ...   \n",
              "2     나몰라패밀리 핫쇼                                    퍼가실때 꼭 출처 부탁드려요   \n",
              "3         미디어몽구                                다스는 누구겁니까 듣고 난 후 표정   \n",
              "4        NocutV  김장겸 MBC 사장이 결국 해임됐다.\\n\\nMBC 대주주인 방송문화진흥회는 13일 ...   \n",
              "\n",
              "                                                tags  \n",
              "0                      라푸마|\"윤종신\"|\"좋니\"|\"좋아\"|\"샬레\"|\"민서\"  \n",
              "1        JSA|\"귀순\"|\"북한군\"|\"총격\"|\"부상\"|\"JSA 귀순 북한군 총격 부상\"  \n",
              "2                아디다스|\"빼빼로\"|\"핫쇼\"|\"나몰라패밀리\"|\"대학로\"|\"공연\"  \n",
              "3  이명박|\"이명박 출국금지\"|\"이명박 출국현장\"|\"이명박 바레인\"|\"이명박 대통령\"|...  \n",
              "4          nocutV|\"노컷V\"|\"CBS\"|\"mbc\"|\"김장겸\"|\"해임\"|\"허일후\"  "
            ]
          },
          "metadata": {
            "tags": []
          },
          "execution_count": 3
        }
      ]
    },
    {
      "cell_type": "markdown",
      "metadata": {
        "id": "sxMToePcb8em"
      },
      "source": [
        "## 콘텐츠 기반 필터링 추천\n",
        "\n",
        "비슷한 콘텐츠를 사용자에게 추천. 여기서 비슷한 콘텐츠란 'category'라고 가정. \n",
        "\n",
        "가장 먼저 문자열로 되어 있는 category를 숫자로 바꾸어 벡터화시킴."
      ]
    },
    {
      "cell_type": "code",
      "metadata": {
        "scrolled": false,
        "id": "QJHLYomgb8en",
        "outputId": "2d850e5d-928f-4347-ce59-85fa861bd526"
      },
      "source": [
        "data.category.head(2)"
      ],
      "execution_count": null,
      "outputs": [
        {
          "output_type": "execute_result",
          "data": {
            "text/plain": [
              "0     People & Blogs\n",
              "1    News & Politics\n",
              "Name: category, dtype: object"
            ]
          },
          "metadata": {
            "tags": []
          },
          "execution_count": 4
        }
      ]
    },
    {
      "cell_type": "code",
      "metadata": {
        "id": "TkmjcK3jb8en"
      },
      "source": [
        "from sklearn.feature_extraction.text import CountVectorizer"
      ],
      "execution_count": null,
      "outputs": []
    },
    {
      "cell_type": "markdown",
      "metadata": {
        "id": "FDoHnKuWb8eo"
      },
      "source": [
        "*CountVectorizer\n",
        ": 단어들의 카운트(출현 빈도(frequency))로 여러 문서들을 벡터화\n",
        "카운트 행렬, 단어 문서 행렬 (Term-Document Matrix, TDM))\n",
        "모두 소문자로 변환시키기 때문에 me 와 Me 는 모두 같은 특성이 된다.*"
      ]
    },
    {
      "cell_type": "code",
      "metadata": {
        "id": "nUYnWiwYb8eo"
      },
      "source": [
        "count_vector = CountVectorizer(ngram_range=(1,3))"
      ],
      "execution_count": null,
      "outputs": []
    },
    {
      "cell_type": "code",
      "metadata": {
        "id": "gs3BlGoCb8eo",
        "outputId": "22a87aef-8a3d-46ee-a5e1-5b5280a51dea"
      },
      "source": [
        "c_vector_category = count_vector.fit_transform(data['category'])\n",
        "c_vector_category.shape"
      ],
      "execution_count": null,
      "outputs": [
        {
          "output_type": "execute_result",
          "data": {
            "text/plain": [
              "(13138, 35)"
            ]
          },
          "metadata": {
            "tags": []
          },
          "execution_count": 7
        }
      ]
    },
    {
      "cell_type": "markdown",
      "metadata": {
        "id": "HpGt_D35b8ep"
      },
      "source": [
        "단어를 벡터화시켜서 저장할 수 있게 됨.\n",
        "\n",
        "이제 각 유튜브 영상의 유사도를 측정하면 된다. 유사도를 측정하면 카테고리가 비슷한 영상이 추천되겠죠? 이 유사도 측정은 코사인 유사도 (cosine similarity)를 사용한다.\n",
        "\n",
        "get_recommend_youtube_list 라는 이름의 함수 생성:\n",
        "\n",
        " 1. 코사인 유사도를 이용해 카테고리가 비슷한 영상을 추천\n",
        " 2. views를 이용해서 views가 높은 것을 기반으로 최종 추천"
      ]
    },
    {
      "cell_type": "code",
      "metadata": {
        "id": "tKMZJwM4b8ep"
      },
      "source": [
        "category_c_sim = cosine_similarity(c_vector_category, c_vector_category).argsort()[:, ::-1]"
      ],
      "execution_count": null,
      "outputs": []
    },
    {
      "cell_type": "code",
      "metadata": {
        "id": "M7PIxyNSb8ep",
        "outputId": "0a530192-5d67-44c0-d2ba-a4f54e6cb907"
      },
      "source": [
        "category_c_sim.shape"
      ],
      "execution_count": null,
      "outputs": [
        {
          "output_type": "execute_result",
          "data": {
            "text/plain": [
              "(13138, 13138)"
            ]
          },
          "metadata": {
            "tags": []
          },
          "execution_count": 9
        }
      ]
    },
    {
      "cell_type": "code",
      "metadata": {
        "id": "ApQnMJ7sb8eq"
      },
      "source": [
        "def get_recommend_youtube_list(df, youtube_title, top=30):\n",
        "    # 특정 영상과 비슷한 영상을 추천해야 하기 때문에 '특정 영상' 정보를 뽑아낸다.\n",
        "    target_youtube_index = df[df['title'] == youtube_title].index.values\n",
        "    \n",
        "    #코사인 유사도 중 비슷한 코사인 유사도를 가진 정보를 뽑아낸다.\n",
        "    sim_index = category_c_sim[target_youtube_index, :top].reshape(-1)\n",
        "    #본인을 제외\n",
        "    sim_index = sim_index[sim_index != target_youtube_index]\n",
        "\n",
        "    #data frame으로 만들고 views으로 정렬한 뒤 return\n",
        "    result = df.iloc[sim_index].sort_values('views', ascending=False)[:10]\n",
        "    return result"
      ],
      "execution_count": null,
      "outputs": []
    },
    {
      "cell_type": "markdown",
      "metadata": {
        "id": "MnaFR2XUb8eq"
      },
      "source": [
        "youtube_title=' '에 내가 시청한 영상의 제목을 입력하면, 이와 동일 카테고리내에서 views가 많은 영상을 우선순위로 30개 영상을 추천함."
      ]
    },
    {
      "cell_type": "code",
      "metadata": {
        "scrolled": true,
        "id": "nUXF1BKxb8eq",
        "outputId": "d40f493f-39aa-4326-afb8-3e77c6cb30bc"
      },
      "source": [
        "get_recommend_youtube_list(data, youtube_title='JSA 귀순 북한군 총격 부상')"
      ],
      "execution_count": null,
      "outputs": [
        {
          "output_type": "execute_result",
          "data": {
            "text/html": [
              "<div>\n",
              "<style scoped>\n",
              "    .dataframe tbody tr th:only-of-type {\n",
              "        vertical-align: middle;\n",
              "    }\n",
              "\n",
              "    .dataframe tbody tr th {\n",
              "        vertical-align: top;\n",
              "    }\n",
              "\n",
              "    .dataframe thead th {\n",
              "        text-align: right;\n",
              "    }\n",
              "</style>\n",
              "<table border=\"1\" class=\"dataframe\">\n",
              "  <thead>\n",
              "    <tr style=\"text-align: right;\">\n",
              "      <th></th>\n",
              "      <th>video_id</th>\n",
              "      <th>category</th>\n",
              "      <th>views</th>\n",
              "      <th>likes</th>\n",
              "      <th>title</th>\n",
              "      <th>channel_title</th>\n",
              "      <th>description</th>\n",
              "      <th>tags</th>\n",
              "    </tr>\n",
              "  </thead>\n",
              "  <tbody>\n",
              "    <tr>\n",
              "      <th>2878</th>\n",
              "      <td>x35N8oTUIZI</td>\n",
              "      <td>News &amp; Politics</td>\n",
              "      <td>80473</td>\n",
              "      <td>1476</td>\n",
              "      <td>문재인대통령 보려고 호텔앞까지 찾아온 중국인들 (중국 충칭시)</td>\n",
              "      <td>무마니</td>\n",
              "      <td>https://www.facebook.com/TheBlueHouseKR/\\nhttp...</td>\n",
              "      <td>문재인대통령|\"문재인\"|\"청와대\"|\"대한민국\"|\"강경화\"|\"김상조\"|\"국회\"|\"여의...</td>\n",
              "    </tr>\n",
              "    <tr>\n",
              "      <th>9410</th>\n",
              "      <td>oCt4MLzgSQU</td>\n",
              "      <td>News &amp; Politics</td>\n",
              "      <td>79052</td>\n",
              "      <td>303</td>\n",
              "      <td>유시민, 안희정의 미래는 너무도 창창했다. 03 11</td>\n",
              "      <td>시민의 justice</td>\n",
              "      <td>NaN</td>\n",
              "      <td>[none]</td>\n",
              "    </tr>\n",
              "    <tr>\n",
              "      <th>2834</th>\n",
              "      <td>PTOj8nr703I</td>\n",
              "      <td>News &amp; Politics</td>\n",
              "      <td>61383</td>\n",
              "      <td>528</td>\n",
              "      <td>[MBC최승호 사장] 최승호 사장의 개혁 광풍, 정말 심상치가 않다.</td>\n",
              "      <td>빠른서찰</td>\n",
              "      <td>[MBC최승호 사장] 최승호 사장의 개혁 광풍, 정말 심상치가 않다.</td>\n",
              "      <td>MBC최승호 사장|\"최승호\"</td>\n",
              "    </tr>\n",
              "    <tr>\n",
              "      <th>9413</th>\n",
              "      <td>wJt7HoxL5cQ</td>\n",
              "      <td>News &amp; Politics</td>\n",
              "      <td>60387</td>\n",
              "      <td>313</td>\n",
              "      <td>유시민 놀랍다! 왜 유시민이 안희정과 달랐냐면요 클라스의 차이를 느낄 수 밖에</td>\n",
              "      <td>뭉구</td>\n",
              "      <td>NaN</td>\n",
              "      <td>유시민|\"안희정\"|\"클라스의차이\"|\"클라스\"</td>\n",
              "    </tr>\n",
              "    <tr>\n",
              "      <th>2829</th>\n",
              "      <td>VKC4T5Z_5yM</td>\n",
              "      <td>News &amp; Politics</td>\n",
              "      <td>56966</td>\n",
              "      <td>686</td>\n",
              "      <td>서울 피해없이 북한 700곳 타격 가능하다 | 미국 예방타격 시나리오</td>\n",
              "      <td>소름돋는정치</td>\n",
              "      <td>NaN</td>\n",
              "      <td>홍준표|\"자유한국당\"|\"류여해\"|\"미군철수\"|\"트럼프\"|\"미국\"|\"중국\"|\"시진핑\"...</td>\n",
              "    </tr>\n",
              "    <tr>\n",
              "      <th>9347</th>\n",
              "      <td>1EjJsN0Rxw8</td>\n",
              "      <td>News &amp; Politics</td>\n",
              "      <td>53010</td>\n",
              "      <td>337</td>\n",
              "      <td>[이번 안희정 지사 사건을 보듯이 유시민 작가는 안희정 지사와의 클래스는 너무 달랐...</td>\n",
              "      <td>빠른서찰</td>\n",
              "      <td>[이번 안희정 지사 사건을 보듯이 유시민 작가는 안희정 지사와의 클래스는 너무 달랐...</td>\n",
              "      <td>[none]</td>\n",
              "    </tr>\n",
              "    <tr>\n",
              "      <th>9411</th>\n",
              "      <td>CB5H8_et-sM</td>\n",
              "      <td>News &amp; Politics</td>\n",
              "      <td>48902</td>\n",
              "      <td>2438</td>\n",
              "      <td>이동복 경고 ''정의용 특사가 김정은 말을 왜곡 전달하면 심유경 꼴 된다.''</td>\n",
              "      <td>조갑제TV</td>\n",
              "      <td>韓美동맹 해체를 의미하는 '한반도 비핵화'를 '북한의 비핵화'인 것처럼 전달하면 트...</td>\n",
              "      <td>[none]</td>\n",
              "    </tr>\n",
              "    <tr>\n",
              "      <th>9349</th>\n",
              "      <td>wbg6sAdpN7Q</td>\n",
              "      <td>News &amp; Politics</td>\n",
              "      <td>43895</td>\n",
              "      <td>1801</td>\n",
              "      <td>분통 폭발!!! 3-10 탄핵원흉 헌재 정유9적 장례식 운구행렬</td>\n",
              "      <td>SesameTube 참깨방송</td>\n",
              "      <td>2018년 3월10일 오후 대한애국당 거리행진 대열 후미에 속한 헌법재판소 정미9적...</td>\n",
              "      <td>운현궁|\"접근\"|\"3-10\"|\"박근혜 대통령\"|\"불법탄핵\"|\"억지탄핵\"|\"탄핵\"|\"...</td>\n",
              "    </tr>\n",
              "    <tr>\n",
              "      <th>2835</th>\n",
              "      <td>1qizHVJb9wg</td>\n",
              "      <td>News &amp; Politics</td>\n",
              "      <td>43580</td>\n",
              "      <td>1149</td>\n",
              "      <td>문재인 베이징대 14번 기립박수 대박-시진핑 활짝 웃었다</td>\n",
              "      <td>김초운</td>\n",
              "      <td>많은 분들이 볼 수 있게 좋아요 구독 부탁합니다^^ 꼭 보셔야 할 내용인데요.. 외...</td>\n",
              "      <td>문재인 베이징대</td>\n",
              "    </tr>\n",
              "    <tr>\n",
              "      <th>9393</th>\n",
              "      <td>A4QDrFWnvYg</td>\n",
              "      <td>News &amp; Politics</td>\n",
              "      <td>37436</td>\n",
              "      <td>1677</td>\n",
              "      <td>★개미애국방송★ (03/10) [특보] 불법·사기 탄핵 1년! 강력하게 규탄한다! ...</td>\n",
              "      <td>개미애국방송</td>\n",
              "      <td>NaN</td>\n",
              "      <td>개미애국방송|\"개미애국\"|\"대한애국당\"|\"태극기집회\"|\"조원진\"</td>\n",
              "    </tr>\n",
              "  </tbody>\n",
              "</table>\n",
              "</div>"
            ],
            "text/plain": [
              "         video_id         category  views likes  \\\n",
              "2878  x35N8oTUIZI  News & Politics  80473  1476   \n",
              "9410  oCt4MLzgSQU  News & Politics  79052   303   \n",
              "2834  PTOj8nr703I  News & Politics  61383   528   \n",
              "9413  wJt7HoxL5cQ  News & Politics  60387   313   \n",
              "2829  VKC4T5Z_5yM  News & Politics  56966   686   \n",
              "9347  1EjJsN0Rxw8  News & Politics  53010   337   \n",
              "9411  CB5H8_et-sM  News & Politics  48902  2438   \n",
              "9349  wbg6sAdpN7Q  News & Politics  43895  1801   \n",
              "2835  1qizHVJb9wg  News & Politics  43580  1149   \n",
              "9393  A4QDrFWnvYg  News & Politics  37436  1677   \n",
              "\n",
              "                                                  title    channel_title  \\\n",
              "2878                 문재인대통령 보려고 호텔앞까지 찾아온 중국인들 (중국 충칭시)              무마니   \n",
              "9410                      유시민, 안희정의 미래는 너무도 창창했다. 03 11      시민의 justice   \n",
              "2834             [MBC최승호 사장] 최승호 사장의 개혁 광풍, 정말 심상치가 않다.             빠른서찰   \n",
              "9413        유시민 놀랍다! 왜 유시민이 안희정과 달랐냐면요 클라스의 차이를 느낄 수 밖에               뭉구   \n",
              "2829             서울 피해없이 북한 700곳 타격 가능하다 | 미국 예방타격 시나리오           소름돋는정치   \n",
              "9347  [이번 안희정 지사 사건을 보듯이 유시민 작가는 안희정 지사와의 클래스는 너무 달랐...             빠른서찰   \n",
              "9411        이동복 경고 ''정의용 특사가 김정은 말을 왜곡 전달하면 심유경 꼴 된다.''            조갑제TV   \n",
              "9349                분통 폭발!!! 3-10 탄핵원흉 헌재 정유9적 장례식 운구행렬  SesameTube 참깨방송   \n",
              "2835                    문재인 베이징대 14번 기립박수 대박-시진핑 활짝 웃었다              김초운   \n",
              "9393  ★개미애국방송★ (03/10) [특보] 불법·사기 탄핵 1년! 강력하게 규탄한다! ...           개미애국방송   \n",
              "\n",
              "                                            description  \\\n",
              "2878  https://www.facebook.com/TheBlueHouseKR/\\nhttp...   \n",
              "9410                                                NaN   \n",
              "2834             [MBC최승호 사장] 최승호 사장의 개혁 광풍, 정말 심상치가 않다.   \n",
              "9413                                                NaN   \n",
              "2829                                                NaN   \n",
              "9347  [이번 안희정 지사 사건을 보듯이 유시민 작가는 안희정 지사와의 클래스는 너무 달랐...   \n",
              "9411  韓美동맹 해체를 의미하는 '한반도 비핵화'를 '북한의 비핵화'인 것처럼 전달하면 트...   \n",
              "9349  2018년 3월10일 오후 대한애국당 거리행진 대열 후미에 속한 헌법재판소 정미9적...   \n",
              "2835  많은 분들이 볼 수 있게 좋아요 구독 부탁합니다^^ 꼭 보셔야 할 내용인데요.. 외...   \n",
              "9393                                                NaN   \n",
              "\n",
              "                                                   tags  \n",
              "2878  문재인대통령|\"문재인\"|\"청와대\"|\"대한민국\"|\"강경화\"|\"김상조\"|\"국회\"|\"여의...  \n",
              "9410                                             [none]  \n",
              "2834                                    MBC최승호 사장|\"최승호\"  \n",
              "9413                           유시민|\"안희정\"|\"클라스의차이\"|\"클라스\"  \n",
              "2829  홍준표|\"자유한국당\"|\"류여해\"|\"미군철수\"|\"트럼프\"|\"미국\"|\"중국\"|\"시진핑\"...  \n",
              "9347                                             [none]  \n",
              "9411                                             [none]  \n",
              "9349  운현궁|\"접근\"|\"3-10\"|\"박근혜 대통령\"|\"불법탄핵\"|\"억지탄핵\"|\"탄핵\"|\"...  \n",
              "2835                                           문재인 베이징대  \n",
              "9393                개미애국방송|\"개미애국\"|\"대한애국당\"|\"태극기집회\"|\"조원진\"  "
            ]
          },
          "metadata": {
            "tags": []
          },
          "execution_count": 11
        }
      ]
    },
    {
      "cell_type": "markdown",
      "metadata": {
        "id": "NFphXg33b8er"
      },
      "source": [
        "# 3) 협업 필터링_아이템 기반 \n",
        "\n",
        "- 데이터셋 : https://www.kaggle.com/sengzhaotoo/movielens-small \n",
        "- userid, movieid 등의 필요 요건을 맞춘 데이터를 캐글에서 다운받음. (위의 데이터로 진행할 수 없는 이유)"
      ]
    },
    {
      "cell_type": "code",
      "metadata": {
        "id": "K2_pJdJib8er"
      },
      "source": [
        "rating_data = pd.read_csv(\"C:/Users/User/Desktop/ratings.csv\",encoding = 'cp949')\n",
        "movie_data = pd.read_csv(\"C:/Users/User/Desktop/movies.csv\", encoding = 'cp949')"
      ],
      "execution_count": null,
      "outputs": []
    },
    {
      "cell_type": "code",
      "metadata": {
        "id": "MnrjOTjub8er",
        "outputId": "74467a49-331d-42a4-eaea-270d45d4df86"
      },
      "source": [
        "rating_data.head(2)"
      ],
      "execution_count": null,
      "outputs": [
        {
          "output_type": "execute_result",
          "data": {
            "text/html": [
              "<div>\n",
              "<style scoped>\n",
              "    .dataframe tbody tr th:only-of-type {\n",
              "        vertical-align: middle;\n",
              "    }\n",
              "\n",
              "    .dataframe tbody tr th {\n",
              "        vertical-align: top;\n",
              "    }\n",
              "\n",
              "    .dataframe thead th {\n",
              "        text-align: right;\n",
              "    }\n",
              "</style>\n",
              "<table border=\"1\" class=\"dataframe\">\n",
              "  <thead>\n",
              "    <tr style=\"text-align: right;\">\n",
              "      <th></th>\n",
              "      <th>userId</th>\n",
              "      <th>movieId</th>\n",
              "      <th>rating</th>\n",
              "      <th>timestamp</th>\n",
              "    </tr>\n",
              "  </thead>\n",
              "  <tbody>\n",
              "    <tr>\n",
              "      <th>0</th>\n",
              "      <td>1</td>\n",
              "      <td>31</td>\n",
              "      <td>2.5</td>\n",
              "      <td>1260759144</td>\n",
              "    </tr>\n",
              "    <tr>\n",
              "      <th>1</th>\n",
              "      <td>1</td>\n",
              "      <td>1029</td>\n",
              "      <td>3.0</td>\n",
              "      <td>1260759179</td>\n",
              "    </tr>\n",
              "  </tbody>\n",
              "</table>\n",
              "</div>"
            ],
            "text/plain": [
              "   userId  movieId  rating   timestamp\n",
              "0       1       31     2.5  1260759144\n",
              "1       1     1029     3.0  1260759179"
            ]
          },
          "metadata": {
            "tags": []
          },
          "execution_count": 13
        }
      ]
    },
    {
      "cell_type": "code",
      "metadata": {
        "id": "O7kHc-NJb8es",
        "outputId": "2bd0eb67-55e9-4a98-8251-f0301d5841bd"
      },
      "source": [
        "movie_data.head(2)"
      ],
      "execution_count": null,
      "outputs": [
        {
          "output_type": "execute_result",
          "data": {
            "text/html": [
              "<div>\n",
              "<style scoped>\n",
              "    .dataframe tbody tr th:only-of-type {\n",
              "        vertical-align: middle;\n",
              "    }\n",
              "\n",
              "    .dataframe tbody tr th {\n",
              "        vertical-align: top;\n",
              "    }\n",
              "\n",
              "    .dataframe thead th {\n",
              "        text-align: right;\n",
              "    }\n",
              "</style>\n",
              "<table border=\"1\" class=\"dataframe\">\n",
              "  <thead>\n",
              "    <tr style=\"text-align: right;\">\n",
              "      <th></th>\n",
              "      <th>movieId</th>\n",
              "      <th>title</th>\n",
              "      <th>genres</th>\n",
              "    </tr>\n",
              "  </thead>\n",
              "  <tbody>\n",
              "    <tr>\n",
              "      <th>0</th>\n",
              "      <td>1</td>\n",
              "      <td>Toy Story (1995)</td>\n",
              "      <td>Adventure|Animation|Children|Comedy|Fantasy</td>\n",
              "    </tr>\n",
              "    <tr>\n",
              "      <th>1</th>\n",
              "      <td>2</td>\n",
              "      <td>Jumanji (1995)</td>\n",
              "      <td>Adventure|Children|Fantasy</td>\n",
              "    </tr>\n",
              "  </tbody>\n",
              "</table>\n",
              "</div>"
            ],
            "text/plain": [
              "   movieId             title                                       genres\n",
              "0        1  Toy Story (1995)  Adventure|Animation|Children|Comedy|Fantasy\n",
              "1        2    Jumanji (1995)                   Adventure|Children|Fantasy"
            ]
          },
          "metadata": {
            "tags": []
          },
          "execution_count": 14
        }
      ]
    },
    {
      "cell_type": "markdown",
      "metadata": {
        "id": "o0NaB-Gsb8es"
      },
      "source": [
        "따로 나뉘어져 있는 평점&영화 데이터 합치기.\n",
        "\n",
        "-> 공통으로 갖고 있는 칼럼 'movieid'를 기준으로 합치면 된다. (pivot_table로 만들기)"
      ]
    },
    {
      "cell_type": "code",
      "metadata": {
        "id": "q-tywqjBb8es",
        "outputId": "eacb5281-91b3-4284-dce0-34d7d10f5a5d"
      },
      "source": [
        "rating_data.drop('timestamp', axis = 1, inplace=True)\n",
        "rating_data.head(2)"
      ],
      "execution_count": null,
      "outputs": [
        {
          "output_type": "execute_result",
          "data": {
            "text/html": [
              "<div>\n",
              "<style scoped>\n",
              "    .dataframe tbody tr th:only-of-type {\n",
              "        vertical-align: middle;\n",
              "    }\n",
              "\n",
              "    .dataframe tbody tr th {\n",
              "        vertical-align: top;\n",
              "    }\n",
              "\n",
              "    .dataframe thead th {\n",
              "        text-align: right;\n",
              "    }\n",
              "</style>\n",
              "<table border=\"1\" class=\"dataframe\">\n",
              "  <thead>\n",
              "    <tr style=\"text-align: right;\">\n",
              "      <th></th>\n",
              "      <th>userId</th>\n",
              "      <th>movieId</th>\n",
              "      <th>rating</th>\n",
              "    </tr>\n",
              "  </thead>\n",
              "  <tbody>\n",
              "    <tr>\n",
              "      <th>0</th>\n",
              "      <td>1</td>\n",
              "      <td>31</td>\n",
              "      <td>2.5</td>\n",
              "    </tr>\n",
              "    <tr>\n",
              "      <th>1</th>\n",
              "      <td>1</td>\n",
              "      <td>1029</td>\n",
              "      <td>3.0</td>\n",
              "    </tr>\n",
              "  </tbody>\n",
              "</table>\n",
              "</div>"
            ],
            "text/plain": [
              "   userId  movieId  rating\n",
              "0       1       31     2.5\n",
              "1       1     1029     3.0"
            ]
          },
          "metadata": {
            "tags": []
          },
          "execution_count": 15
        }
      ]
    },
    {
      "cell_type": "code",
      "metadata": {
        "id": "bfy0Lw4db8et"
      },
      "source": [
        "user_movie_rating = pd.merge(rating_data, movie_data, on = 'movieId')"
      ],
      "execution_count": null,
      "outputs": []
    },
    {
      "cell_type": "code",
      "metadata": {
        "id": "5QlfqAn3b8et",
        "outputId": "468f8cd4-abc8-4a61-fba8-48620aae2a7f"
      },
      "source": [
        "user_movie_rating.head(2)"
      ],
      "execution_count": null,
      "outputs": [
        {
          "output_type": "execute_result",
          "data": {
            "text/html": [
              "<div>\n",
              "<style scoped>\n",
              "    .dataframe tbody tr th:only-of-type {\n",
              "        vertical-align: middle;\n",
              "    }\n",
              "\n",
              "    .dataframe tbody tr th {\n",
              "        vertical-align: top;\n",
              "    }\n",
              "\n",
              "    .dataframe thead th {\n",
              "        text-align: right;\n",
              "    }\n",
              "</style>\n",
              "<table border=\"1\" class=\"dataframe\">\n",
              "  <thead>\n",
              "    <tr style=\"text-align: right;\">\n",
              "      <th></th>\n",
              "      <th>userId</th>\n",
              "      <th>movieId</th>\n",
              "      <th>rating</th>\n",
              "      <th>title</th>\n",
              "      <th>genres</th>\n",
              "    </tr>\n",
              "  </thead>\n",
              "  <tbody>\n",
              "    <tr>\n",
              "      <th>0</th>\n",
              "      <td>1</td>\n",
              "      <td>31</td>\n",
              "      <td>2.5</td>\n",
              "      <td>Dangerous Minds (1995)</td>\n",
              "      <td>Drama</td>\n",
              "    </tr>\n",
              "    <tr>\n",
              "      <th>1</th>\n",
              "      <td>7</td>\n",
              "      <td>31</td>\n",
              "      <td>3.0</td>\n",
              "      <td>Dangerous Minds (1995)</td>\n",
              "      <td>Drama</td>\n",
              "    </tr>\n",
              "  </tbody>\n",
              "</table>\n",
              "</div>"
            ],
            "text/plain": [
              "   userId  movieId  rating                   title genres\n",
              "0       1       31     2.5  Dangerous Minds (1995)  Drama\n",
              "1       7       31     3.0  Dangerous Minds (1995)  Drama"
            ]
          },
          "metadata": {
            "tags": []
          },
          "execution_count": 17
        }
      ]
    },
    {
      "cell_type": "code",
      "metadata": {
        "id": "29eYTjX3b8et"
      },
      "source": [
        "movie_user_rating = user_movie_rating.pivot_table('rating', index = 'title', columns='userId')\n",
        "user_movie_rating = user_movie_rating.pivot_table('rating', index = 'userId', columns='title')"
      ],
      "execution_count": null,
      "outputs": []
    },
    {
      "cell_type": "code",
      "metadata": {
        "id": "HdHE-Ji3b8et",
        "outputId": "2a863b82-b2fb-48c2-93f1-d3b519846545"
      },
      "source": [
        "user_movie_rating.head(5)"
      ],
      "execution_count": null,
      "outputs": [
        {
          "output_type": "execute_result",
          "data": {
            "text/html": [
              "<div>\n",
              "<style scoped>\n",
              "    .dataframe tbody tr th:only-of-type {\n",
              "        vertical-align: middle;\n",
              "    }\n",
              "\n",
              "    .dataframe tbody tr th {\n",
              "        vertical-align: top;\n",
              "    }\n",
              "\n",
              "    .dataframe thead th {\n",
              "        text-align: right;\n",
              "    }\n",
              "</style>\n",
              "<table border=\"1\" class=\"dataframe\">\n",
              "  <thead>\n",
              "    <tr style=\"text-align: right;\">\n",
              "      <th>title</th>\n",
              "      <th>\"Great Performances\" Cats (1998)</th>\n",
              "      <th>$9.99 (2008)</th>\n",
              "      <th>'Hellboy': The Seeds of Creation (2004)</th>\n",
              "      <th>'Neath the Arizona Skies (1934)</th>\n",
              "      <th>'Round Midnight (1986)</th>\n",
              "      <th>'Salem's Lot (2004)</th>\n",
              "      <th>'Til There Was You (1997)</th>\n",
              "      <th>'burbs, The (1989)</th>\n",
              "      <th>'night Mother (1986)</th>\n",
              "      <th>(500) Days of Summer (2009)</th>\n",
              "      <th>...</th>\n",
              "      <th>Zorro, the Gay Blade (1981)</th>\n",
              "      <th>Zulu (1964)</th>\n",
              "      <th>Zulu (2013)</th>\n",
              "      <th>[REC] (2007)</th>\n",
              "      <th>eXistenZ (1999)</th>\n",
              "      <th>loudQUIETloud: A Film About the Pixies (2006)</th>\n",
              "      <th>xXx (2002)</th>\n",
              "      <th>xXx: State of the Union (2005)</th>\n",
              "      <th>징Three Amigos! (1986)</th>\n",
              "      <th>캅tiraz캇m Var (2014)</th>\n",
              "    </tr>\n",
              "    <tr>\n",
              "      <th>userId</th>\n",
              "      <th></th>\n",
              "      <th></th>\n",
              "      <th></th>\n",
              "      <th></th>\n",
              "      <th></th>\n",
              "      <th></th>\n",
              "      <th></th>\n",
              "      <th></th>\n",
              "      <th></th>\n",
              "      <th></th>\n",
              "      <th></th>\n",
              "      <th></th>\n",
              "      <th></th>\n",
              "      <th></th>\n",
              "      <th></th>\n",
              "      <th></th>\n",
              "      <th></th>\n",
              "      <th></th>\n",
              "      <th></th>\n",
              "      <th></th>\n",
              "      <th></th>\n",
              "    </tr>\n",
              "  </thead>\n",
              "  <tbody>\n",
              "    <tr>\n",
              "      <th>1</th>\n",
              "      <td>NaN</td>\n",
              "      <td>NaN</td>\n",
              "      <td>NaN</td>\n",
              "      <td>NaN</td>\n",
              "      <td>NaN</td>\n",
              "      <td>NaN</td>\n",
              "      <td>NaN</td>\n",
              "      <td>NaN</td>\n",
              "      <td>NaN</td>\n",
              "      <td>NaN</td>\n",
              "      <td>...</td>\n",
              "      <td>NaN</td>\n",
              "      <td>NaN</td>\n",
              "      <td>NaN</td>\n",
              "      <td>NaN</td>\n",
              "      <td>NaN</td>\n",
              "      <td>NaN</td>\n",
              "      <td>NaN</td>\n",
              "      <td>NaN</td>\n",
              "      <td>NaN</td>\n",
              "      <td>NaN</td>\n",
              "    </tr>\n",
              "    <tr>\n",
              "      <th>2</th>\n",
              "      <td>NaN</td>\n",
              "      <td>NaN</td>\n",
              "      <td>NaN</td>\n",
              "      <td>NaN</td>\n",
              "      <td>NaN</td>\n",
              "      <td>NaN</td>\n",
              "      <td>NaN</td>\n",
              "      <td>NaN</td>\n",
              "      <td>NaN</td>\n",
              "      <td>NaN</td>\n",
              "      <td>...</td>\n",
              "      <td>NaN</td>\n",
              "      <td>NaN</td>\n",
              "      <td>NaN</td>\n",
              "      <td>NaN</td>\n",
              "      <td>NaN</td>\n",
              "      <td>NaN</td>\n",
              "      <td>NaN</td>\n",
              "      <td>NaN</td>\n",
              "      <td>NaN</td>\n",
              "      <td>NaN</td>\n",
              "    </tr>\n",
              "    <tr>\n",
              "      <th>3</th>\n",
              "      <td>NaN</td>\n",
              "      <td>NaN</td>\n",
              "      <td>NaN</td>\n",
              "      <td>NaN</td>\n",
              "      <td>NaN</td>\n",
              "      <td>NaN</td>\n",
              "      <td>NaN</td>\n",
              "      <td>NaN</td>\n",
              "      <td>NaN</td>\n",
              "      <td>NaN</td>\n",
              "      <td>...</td>\n",
              "      <td>NaN</td>\n",
              "      <td>NaN</td>\n",
              "      <td>NaN</td>\n",
              "      <td>NaN</td>\n",
              "      <td>NaN</td>\n",
              "      <td>NaN</td>\n",
              "      <td>NaN</td>\n",
              "      <td>NaN</td>\n",
              "      <td>NaN</td>\n",
              "      <td>NaN</td>\n",
              "    </tr>\n",
              "    <tr>\n",
              "      <th>4</th>\n",
              "      <td>NaN</td>\n",
              "      <td>NaN</td>\n",
              "      <td>NaN</td>\n",
              "      <td>NaN</td>\n",
              "      <td>NaN</td>\n",
              "      <td>NaN</td>\n",
              "      <td>NaN</td>\n",
              "      <td>NaN</td>\n",
              "      <td>NaN</td>\n",
              "      <td>NaN</td>\n",
              "      <td>...</td>\n",
              "      <td>NaN</td>\n",
              "      <td>NaN</td>\n",
              "      <td>NaN</td>\n",
              "      <td>NaN</td>\n",
              "      <td>NaN</td>\n",
              "      <td>NaN</td>\n",
              "      <td>NaN</td>\n",
              "      <td>NaN</td>\n",
              "      <td>NaN</td>\n",
              "      <td>NaN</td>\n",
              "    </tr>\n",
              "    <tr>\n",
              "      <th>5</th>\n",
              "      <td>NaN</td>\n",
              "      <td>NaN</td>\n",
              "      <td>NaN</td>\n",
              "      <td>NaN</td>\n",
              "      <td>NaN</td>\n",
              "      <td>NaN</td>\n",
              "      <td>NaN</td>\n",
              "      <td>NaN</td>\n",
              "      <td>NaN</td>\n",
              "      <td>NaN</td>\n",
              "      <td>...</td>\n",
              "      <td>NaN</td>\n",
              "      <td>NaN</td>\n",
              "      <td>NaN</td>\n",
              "      <td>NaN</td>\n",
              "      <td>NaN</td>\n",
              "      <td>NaN</td>\n",
              "      <td>NaN</td>\n",
              "      <td>NaN</td>\n",
              "      <td>NaN</td>\n",
              "      <td>NaN</td>\n",
              "    </tr>\n",
              "  </tbody>\n",
              "</table>\n",
              "<p>5 rows × 9064 columns</p>\n",
              "</div>"
            ],
            "text/plain": [
              "title   \"Great Performances\" Cats (1998)  $9.99 (2008)  \\\n",
              "userId                                                   \n",
              "1                                    NaN           NaN   \n",
              "2                                    NaN           NaN   \n",
              "3                                    NaN           NaN   \n",
              "4                                    NaN           NaN   \n",
              "5                                    NaN           NaN   \n",
              "\n",
              "title   'Hellboy': The Seeds of Creation (2004)  \\\n",
              "userId                                            \n",
              "1                                           NaN   \n",
              "2                                           NaN   \n",
              "3                                           NaN   \n",
              "4                                           NaN   \n",
              "5                                           NaN   \n",
              "\n",
              "title   'Neath the Arizona Skies (1934)  'Round Midnight (1986)  \\\n",
              "userId                                                            \n",
              "1                                   NaN                     NaN   \n",
              "2                                   NaN                     NaN   \n",
              "3                                   NaN                     NaN   \n",
              "4                                   NaN                     NaN   \n",
              "5                                   NaN                     NaN   \n",
              "\n",
              "title   'Salem's Lot (2004)  'Til There Was You (1997)  'burbs, The (1989)  \\\n",
              "userId                                                                       \n",
              "1                       NaN                        NaN                 NaN   \n",
              "2                       NaN                        NaN                 NaN   \n",
              "3                       NaN                        NaN                 NaN   \n",
              "4                       NaN                        NaN                 NaN   \n",
              "5                       NaN                        NaN                 NaN   \n",
              "\n",
              "title   'night Mother (1986)  (500) Days of Summer (2009)  ...  \\\n",
              "userId                                                     ...   \n",
              "1                        NaN                          NaN  ...   \n",
              "2                        NaN                          NaN  ...   \n",
              "3                        NaN                          NaN  ...   \n",
              "4                        NaN                          NaN  ...   \n",
              "5                        NaN                          NaN  ...   \n",
              "\n",
              "title   Zorro, the Gay Blade (1981)  Zulu (1964)  Zulu (2013)  [REC] (2007)  \\\n",
              "userId                                                                        \n",
              "1                               NaN          NaN          NaN           NaN   \n",
              "2                               NaN          NaN          NaN           NaN   \n",
              "3                               NaN          NaN          NaN           NaN   \n",
              "4                               NaN          NaN          NaN           NaN   \n",
              "5                               NaN          NaN          NaN           NaN   \n",
              "\n",
              "title   eXistenZ (1999)  loudQUIETloud: A Film About the Pixies (2006)  \\\n",
              "userId                                                                   \n",
              "1                   NaN                                            NaN   \n",
              "2                   NaN                                            NaN   \n",
              "3                   NaN                                            NaN   \n",
              "4                   NaN                                            NaN   \n",
              "5                   NaN                                            NaN   \n",
              "\n",
              "title   xXx (2002)  xXx: State of the Union (2005)  징Three Amigos! (1986)  \\\n",
              "userId                                                                      \n",
              "1              NaN                             NaN                    NaN   \n",
              "2              NaN                             NaN                    NaN   \n",
              "3              NaN                             NaN                    NaN   \n",
              "4              NaN                             NaN                    NaN   \n",
              "5              NaN                             NaN                    NaN   \n",
              "\n",
              "title   캅tiraz캇m Var (2014)  \n",
              "userId                       \n",
              "1                       NaN  \n",
              "2                       NaN  \n",
              "3                       NaN  \n",
              "4                       NaN  \n",
              "5                       NaN  \n",
              "\n",
              "[5 rows x 9064 columns]"
            ]
          },
          "metadata": {
            "tags": []
          },
          "execution_count": 19
        }
      ]
    },
    {
      "cell_type": "code",
      "metadata": {
        "id": "d5gy7dGsb8eu",
        "outputId": "aa290353-4b31-440f-b026-cad3ab313adc"
      },
      "source": [
        "movie_user_rating.head()"
      ],
      "execution_count": null,
      "outputs": [
        {
          "output_type": "execute_result",
          "data": {
            "text/html": [
              "<div>\n",
              "<style scoped>\n",
              "    .dataframe tbody tr th:only-of-type {\n",
              "        vertical-align: middle;\n",
              "    }\n",
              "\n",
              "    .dataframe tbody tr th {\n",
              "        vertical-align: top;\n",
              "    }\n",
              "\n",
              "    .dataframe thead th {\n",
              "        text-align: right;\n",
              "    }\n",
              "</style>\n",
              "<table border=\"1\" class=\"dataframe\">\n",
              "  <thead>\n",
              "    <tr style=\"text-align: right;\">\n",
              "      <th>userId</th>\n",
              "      <th>1</th>\n",
              "      <th>2</th>\n",
              "      <th>3</th>\n",
              "      <th>4</th>\n",
              "      <th>5</th>\n",
              "      <th>6</th>\n",
              "      <th>7</th>\n",
              "      <th>8</th>\n",
              "      <th>9</th>\n",
              "      <th>10</th>\n",
              "      <th>...</th>\n",
              "      <th>662</th>\n",
              "      <th>663</th>\n",
              "      <th>664</th>\n",
              "      <th>665</th>\n",
              "      <th>666</th>\n",
              "      <th>667</th>\n",
              "      <th>668</th>\n",
              "      <th>669</th>\n",
              "      <th>670</th>\n",
              "      <th>671</th>\n",
              "    </tr>\n",
              "    <tr>\n",
              "      <th>title</th>\n",
              "      <th></th>\n",
              "      <th></th>\n",
              "      <th></th>\n",
              "      <th></th>\n",
              "      <th></th>\n",
              "      <th></th>\n",
              "      <th></th>\n",
              "      <th></th>\n",
              "      <th></th>\n",
              "      <th></th>\n",
              "      <th></th>\n",
              "      <th></th>\n",
              "      <th></th>\n",
              "      <th></th>\n",
              "      <th></th>\n",
              "      <th></th>\n",
              "      <th></th>\n",
              "      <th></th>\n",
              "      <th></th>\n",
              "      <th></th>\n",
              "      <th></th>\n",
              "    </tr>\n",
              "  </thead>\n",
              "  <tbody>\n",
              "    <tr>\n",
              "      <th>\"Great Performances\" Cats (1998)</th>\n",
              "      <td>NaN</td>\n",
              "      <td>NaN</td>\n",
              "      <td>NaN</td>\n",
              "      <td>NaN</td>\n",
              "      <td>NaN</td>\n",
              "      <td>NaN</td>\n",
              "      <td>NaN</td>\n",
              "      <td>NaN</td>\n",
              "      <td>NaN</td>\n",
              "      <td>NaN</td>\n",
              "      <td>...</td>\n",
              "      <td>NaN</td>\n",
              "      <td>NaN</td>\n",
              "      <td>NaN</td>\n",
              "      <td>NaN</td>\n",
              "      <td>NaN</td>\n",
              "      <td>NaN</td>\n",
              "      <td>NaN</td>\n",
              "      <td>NaN</td>\n",
              "      <td>NaN</td>\n",
              "      <td>NaN</td>\n",
              "    </tr>\n",
              "    <tr>\n",
              "      <th>$9.99 (2008)</th>\n",
              "      <td>NaN</td>\n",
              "      <td>NaN</td>\n",
              "      <td>NaN</td>\n",
              "      <td>NaN</td>\n",
              "      <td>NaN</td>\n",
              "      <td>NaN</td>\n",
              "      <td>NaN</td>\n",
              "      <td>NaN</td>\n",
              "      <td>NaN</td>\n",
              "      <td>NaN</td>\n",
              "      <td>...</td>\n",
              "      <td>NaN</td>\n",
              "      <td>NaN</td>\n",
              "      <td>NaN</td>\n",
              "      <td>NaN</td>\n",
              "      <td>NaN</td>\n",
              "      <td>NaN</td>\n",
              "      <td>NaN</td>\n",
              "      <td>NaN</td>\n",
              "      <td>NaN</td>\n",
              "      <td>NaN</td>\n",
              "    </tr>\n",
              "    <tr>\n",
              "      <th>'Hellboy': The Seeds of Creation (2004)</th>\n",
              "      <td>NaN</td>\n",
              "      <td>NaN</td>\n",
              "      <td>NaN</td>\n",
              "      <td>NaN</td>\n",
              "      <td>NaN</td>\n",
              "      <td>NaN</td>\n",
              "      <td>NaN</td>\n",
              "      <td>NaN</td>\n",
              "      <td>NaN</td>\n",
              "      <td>NaN</td>\n",
              "      <td>...</td>\n",
              "      <td>NaN</td>\n",
              "      <td>NaN</td>\n",
              "      <td>NaN</td>\n",
              "      <td>NaN</td>\n",
              "      <td>NaN</td>\n",
              "      <td>NaN</td>\n",
              "      <td>NaN</td>\n",
              "      <td>NaN</td>\n",
              "      <td>NaN</td>\n",
              "      <td>NaN</td>\n",
              "    </tr>\n",
              "    <tr>\n",
              "      <th>'Neath the Arizona Skies (1934)</th>\n",
              "      <td>NaN</td>\n",
              "      <td>NaN</td>\n",
              "      <td>NaN</td>\n",
              "      <td>NaN</td>\n",
              "      <td>NaN</td>\n",
              "      <td>NaN</td>\n",
              "      <td>NaN</td>\n",
              "      <td>NaN</td>\n",
              "      <td>NaN</td>\n",
              "      <td>NaN</td>\n",
              "      <td>...</td>\n",
              "      <td>NaN</td>\n",
              "      <td>NaN</td>\n",
              "      <td>NaN</td>\n",
              "      <td>NaN</td>\n",
              "      <td>NaN</td>\n",
              "      <td>NaN</td>\n",
              "      <td>NaN</td>\n",
              "      <td>NaN</td>\n",
              "      <td>NaN</td>\n",
              "      <td>NaN</td>\n",
              "    </tr>\n",
              "    <tr>\n",
              "      <th>'Round Midnight (1986)</th>\n",
              "      <td>NaN</td>\n",
              "      <td>NaN</td>\n",
              "      <td>NaN</td>\n",
              "      <td>NaN</td>\n",
              "      <td>NaN</td>\n",
              "      <td>NaN</td>\n",
              "      <td>NaN</td>\n",
              "      <td>NaN</td>\n",
              "      <td>NaN</td>\n",
              "      <td>NaN</td>\n",
              "      <td>...</td>\n",
              "      <td>NaN</td>\n",
              "      <td>NaN</td>\n",
              "      <td>NaN</td>\n",
              "      <td>NaN</td>\n",
              "      <td>NaN</td>\n",
              "      <td>NaN</td>\n",
              "      <td>NaN</td>\n",
              "      <td>NaN</td>\n",
              "      <td>NaN</td>\n",
              "      <td>NaN</td>\n",
              "    </tr>\n",
              "  </tbody>\n",
              "</table>\n",
              "<p>5 rows × 671 columns</p>\n",
              "</div>"
            ],
            "text/plain": [
              "userId                                   1    2    3    4    5    6    7    \\\n",
              "title                                                                        \n",
              "\"Great Performances\" Cats (1998)         NaN  NaN  NaN  NaN  NaN  NaN  NaN   \n",
              "$9.99 (2008)                             NaN  NaN  NaN  NaN  NaN  NaN  NaN   \n",
              "'Hellboy': The Seeds of Creation (2004)  NaN  NaN  NaN  NaN  NaN  NaN  NaN   \n",
              "'Neath the Arizona Skies (1934)          NaN  NaN  NaN  NaN  NaN  NaN  NaN   \n",
              "'Round Midnight (1986)                   NaN  NaN  NaN  NaN  NaN  NaN  NaN   \n",
              "\n",
              "userId                                   8    9    10   ...  662  663  664  \\\n",
              "title                                                   ...                  \n",
              "\"Great Performances\" Cats (1998)         NaN  NaN  NaN  ...  NaN  NaN  NaN   \n",
              "$9.99 (2008)                             NaN  NaN  NaN  ...  NaN  NaN  NaN   \n",
              "'Hellboy': The Seeds of Creation (2004)  NaN  NaN  NaN  ...  NaN  NaN  NaN   \n",
              "'Neath the Arizona Skies (1934)          NaN  NaN  NaN  ...  NaN  NaN  NaN   \n",
              "'Round Midnight (1986)                   NaN  NaN  NaN  ...  NaN  NaN  NaN   \n",
              "\n",
              "userId                                   665  666  667  668  669  670  671  \n",
              "title                                                                       \n",
              "\"Great Performances\" Cats (1998)         NaN  NaN  NaN  NaN  NaN  NaN  NaN  \n",
              "$9.99 (2008)                             NaN  NaN  NaN  NaN  NaN  NaN  NaN  \n",
              "'Hellboy': The Seeds of Creation (2004)  NaN  NaN  NaN  NaN  NaN  NaN  NaN  \n",
              "'Neath the Arizona Skies (1934)          NaN  NaN  NaN  NaN  NaN  NaN  NaN  \n",
              "'Round Midnight (1986)                   NaN  NaN  NaN  NaN  NaN  NaN  NaN  \n",
              "\n",
              "[5 rows x 671 columns]"
            ]
          },
          "metadata": {
            "tags": []
          },
          "execution_count": 20
        }
      ]
    },
    {
      "cell_type": "markdown",
      "metadata": {
        "id": "rcWyFz1Cb8eu"
      },
      "source": [
        "하나의 칼럼은 영화, 다른 하나는 사용자.\n",
        "\n",
        "이 상태에서 먼저 아이템 기반 협업 필터링 (item based collaborative filtering) 진행한다.\n",
        "\n",
        "일단, NaN값은 0으로 바꿔주기!"
      ]
    },
    {
      "cell_type": "code",
      "metadata": {
        "id": "7z4BgvVvb8eu",
        "outputId": "33c0c651-286e-4980-b8ae-218a3d6a335f"
      },
      "source": [
        "movie_user_rating.fillna(0, inplace = True)\n",
        "movie_user_rating.head(3)"
      ],
      "execution_count": null,
      "outputs": [
        {
          "output_type": "execute_result",
          "data": {
            "text/html": [
              "<div>\n",
              "<style scoped>\n",
              "    .dataframe tbody tr th:only-of-type {\n",
              "        vertical-align: middle;\n",
              "    }\n",
              "\n",
              "    .dataframe tbody tr th {\n",
              "        vertical-align: top;\n",
              "    }\n",
              "\n",
              "    .dataframe thead th {\n",
              "        text-align: right;\n",
              "    }\n",
              "</style>\n",
              "<table border=\"1\" class=\"dataframe\">\n",
              "  <thead>\n",
              "    <tr style=\"text-align: right;\">\n",
              "      <th>userId</th>\n",
              "      <th>1</th>\n",
              "      <th>2</th>\n",
              "      <th>3</th>\n",
              "      <th>4</th>\n",
              "      <th>5</th>\n",
              "      <th>6</th>\n",
              "      <th>7</th>\n",
              "      <th>8</th>\n",
              "      <th>9</th>\n",
              "      <th>10</th>\n",
              "      <th>...</th>\n",
              "      <th>662</th>\n",
              "      <th>663</th>\n",
              "      <th>664</th>\n",
              "      <th>665</th>\n",
              "      <th>666</th>\n",
              "      <th>667</th>\n",
              "      <th>668</th>\n",
              "      <th>669</th>\n",
              "      <th>670</th>\n",
              "      <th>671</th>\n",
              "    </tr>\n",
              "    <tr>\n",
              "      <th>title</th>\n",
              "      <th></th>\n",
              "      <th></th>\n",
              "      <th></th>\n",
              "      <th></th>\n",
              "      <th></th>\n",
              "      <th></th>\n",
              "      <th></th>\n",
              "      <th></th>\n",
              "      <th></th>\n",
              "      <th></th>\n",
              "      <th></th>\n",
              "      <th></th>\n",
              "      <th></th>\n",
              "      <th></th>\n",
              "      <th></th>\n",
              "      <th></th>\n",
              "      <th></th>\n",
              "      <th></th>\n",
              "      <th></th>\n",
              "      <th></th>\n",
              "      <th></th>\n",
              "    </tr>\n",
              "  </thead>\n",
              "  <tbody>\n",
              "    <tr>\n",
              "      <th>\"Great Performances\" Cats (1998)</th>\n",
              "      <td>0.0</td>\n",
              "      <td>0.0</td>\n",
              "      <td>0.0</td>\n",
              "      <td>0.0</td>\n",
              "      <td>0.0</td>\n",
              "      <td>0.0</td>\n",
              "      <td>0.0</td>\n",
              "      <td>0.0</td>\n",
              "      <td>0.0</td>\n",
              "      <td>0.0</td>\n",
              "      <td>...</td>\n",
              "      <td>0.0</td>\n",
              "      <td>0.0</td>\n",
              "      <td>0.0</td>\n",
              "      <td>0.0</td>\n",
              "      <td>0.0</td>\n",
              "      <td>0.0</td>\n",
              "      <td>0.0</td>\n",
              "      <td>0.0</td>\n",
              "      <td>0.0</td>\n",
              "      <td>0.0</td>\n",
              "    </tr>\n",
              "    <tr>\n",
              "      <th>$9.99 (2008)</th>\n",
              "      <td>0.0</td>\n",
              "      <td>0.0</td>\n",
              "      <td>0.0</td>\n",
              "      <td>0.0</td>\n",
              "      <td>0.0</td>\n",
              "      <td>0.0</td>\n",
              "      <td>0.0</td>\n",
              "      <td>0.0</td>\n",
              "      <td>0.0</td>\n",
              "      <td>0.0</td>\n",
              "      <td>...</td>\n",
              "      <td>0.0</td>\n",
              "      <td>0.0</td>\n",
              "      <td>0.0</td>\n",
              "      <td>0.0</td>\n",
              "      <td>0.0</td>\n",
              "      <td>0.0</td>\n",
              "      <td>0.0</td>\n",
              "      <td>0.0</td>\n",
              "      <td>0.0</td>\n",
              "      <td>0.0</td>\n",
              "    </tr>\n",
              "    <tr>\n",
              "      <th>'Hellboy': The Seeds of Creation (2004)</th>\n",
              "      <td>0.0</td>\n",
              "      <td>0.0</td>\n",
              "      <td>0.0</td>\n",
              "      <td>0.0</td>\n",
              "      <td>0.0</td>\n",
              "      <td>0.0</td>\n",
              "      <td>0.0</td>\n",
              "      <td>0.0</td>\n",
              "      <td>0.0</td>\n",
              "      <td>0.0</td>\n",
              "      <td>...</td>\n",
              "      <td>0.0</td>\n",
              "      <td>0.0</td>\n",
              "      <td>0.0</td>\n",
              "      <td>0.0</td>\n",
              "      <td>0.0</td>\n",
              "      <td>0.0</td>\n",
              "      <td>0.0</td>\n",
              "      <td>0.0</td>\n",
              "      <td>0.0</td>\n",
              "      <td>0.0</td>\n",
              "    </tr>\n",
              "  </tbody>\n",
              "</table>\n",
              "<p>3 rows × 671 columns</p>\n",
              "</div>"
            ],
            "text/plain": [
              "userId                                   1    2    3    4    5    6    7    \\\n",
              "title                                                                        \n",
              "\"Great Performances\" Cats (1998)         0.0  0.0  0.0  0.0  0.0  0.0  0.0   \n",
              "$9.99 (2008)                             0.0  0.0  0.0  0.0  0.0  0.0  0.0   \n",
              "'Hellboy': The Seeds of Creation (2004)  0.0  0.0  0.0  0.0  0.0  0.0  0.0   \n",
              "\n",
              "userId                                   8    9    10   ...  662  663  664  \\\n",
              "title                                                   ...                  \n",
              "\"Great Performances\" Cats (1998)         0.0  0.0  0.0  ...  0.0  0.0  0.0   \n",
              "$9.99 (2008)                             0.0  0.0  0.0  ...  0.0  0.0  0.0   \n",
              "'Hellboy': The Seeds of Creation (2004)  0.0  0.0  0.0  ...  0.0  0.0  0.0   \n",
              "\n",
              "userId                                   665  666  667  668  669  670  671  \n",
              "title                                                                       \n",
              "\"Great Performances\" Cats (1998)         0.0  0.0  0.0  0.0  0.0  0.0  0.0  \n",
              "$9.99 (2008)                             0.0  0.0  0.0  0.0  0.0  0.0  0.0  \n",
              "'Hellboy': The Seeds of Creation (2004)  0.0  0.0  0.0  0.0  0.0  0.0  0.0  \n",
              "\n",
              "[3 rows x 671 columns]"
            ]
          },
          "metadata": {
            "tags": []
          },
          "execution_count": 21
        }
      ]
    },
    {
      "cell_type": "markdown",
      "metadata": {
        "id": "-orF-6aVb8ev"
      },
      "source": [
        "현재, row가 영화, col이 user로 되어있다.\n",
        "\n",
        "아이템 기반 협업 필터링은 '00 상품을 구매한 고객들은 다음 상품도 구매했다.' 라는 뜻.\n",
        "즉, '00 영화를 본 고객들은 이런 영화도 봤다.' 라고 해석할 수 있다.\n",
        "\n",
        "그리고 그 기반은 평점이 비슷한 것을 기반으로 한다.\n",
        "이제 그 평점이 비슷하다는 것을 코사인 유사도로 측정해서 확인해보자."
      ]
    },
    {
      "cell_type": "code",
      "metadata": {
        "id": "J84pPLNBb8ev",
        "outputId": "d3155257-1d47-42eb-df3a-a4a0dac897ce"
      },
      "source": [
        "item_based_collabor = cosine_similarity(movie_user_rating)\n",
        "item_based_collabor"
      ],
      "execution_count": null,
      "outputs": [
        {
          "output_type": "execute_result",
          "data": {
            "text/plain": [
              "array([[1.        , 0.        , 0.        , ..., 0.        , 0.        ,\n",
              "        0.        ],\n",
              "       [0.        , 1.        , 0.        , ..., 0.        , 0.05821787,\n",
              "        0.        ],\n",
              "       [0.        , 0.        , 1.        , ..., 0.        , 0.        ,\n",
              "        0.        ],\n",
              "       ...,\n",
              "       [0.        , 0.        , 0.        , ..., 1.        , 0.        ,\n",
              "        0.        ],\n",
              "       [0.        , 0.05821787, 0.        , ..., 0.        , 1.        ,\n",
              "        0.        ],\n",
              "       [0.        , 0.        , 0.        , ..., 0.        , 0.        ,\n",
              "        1.        ]])"
            ]
          },
          "metadata": {
            "tags": []
          },
          "execution_count": 22
        }
      ]
    },
    {
      "cell_type": "code",
      "metadata": {
        "id": "QcrXjYdab8ev",
        "outputId": "a9462c09-620e-4d62-dc90-1e2511ce9c02"
      },
      "source": [
        "print(movie_user_rating.shape)\n",
        "print(item_based_collabor.shape)"
      ],
      "execution_count": null,
      "outputs": [
        {
          "output_type": "stream",
          "text": [
            "(9064, 671)\n",
            "(9064, 9064)\n"
          ],
          "name": "stdout"
        }
      ]
    },
    {
      "cell_type": "code",
      "metadata": {
        "id": "jWHzmtsPb8ew"
      },
      "source": [
        "item_based_collabor = pd.DataFrame(data = item_based_collabor, index = movie_user_rating.index, columns = movie_user_rating.index)"
      ],
      "execution_count": null,
      "outputs": []
    },
    {
      "cell_type": "code",
      "metadata": {
        "id": "pM7yPtEbb8ew",
        "outputId": "d5e8c806-015b-4cef-f6a7-48ec67062bca"
      },
      "source": [
        "item_based_collabor.head()"
      ],
      "execution_count": null,
      "outputs": [
        {
          "output_type": "execute_result",
          "data": {
            "text/html": [
              "<div>\n",
              "<style scoped>\n",
              "    .dataframe tbody tr th:only-of-type {\n",
              "        vertical-align: middle;\n",
              "    }\n",
              "\n",
              "    .dataframe tbody tr th {\n",
              "        vertical-align: top;\n",
              "    }\n",
              "\n",
              "    .dataframe thead th {\n",
              "        text-align: right;\n",
              "    }\n",
              "</style>\n",
              "<table border=\"1\" class=\"dataframe\">\n",
              "  <thead>\n",
              "    <tr style=\"text-align: right;\">\n",
              "      <th>title</th>\n",
              "      <th>\"Great Performances\" Cats (1998)</th>\n",
              "      <th>$9.99 (2008)</th>\n",
              "      <th>'Hellboy': The Seeds of Creation (2004)</th>\n",
              "      <th>'Neath the Arizona Skies (1934)</th>\n",
              "      <th>'Round Midnight (1986)</th>\n",
              "      <th>'Salem's Lot (2004)</th>\n",
              "      <th>'Til There Was You (1997)</th>\n",
              "      <th>'burbs, The (1989)</th>\n",
              "      <th>'night Mother (1986)</th>\n",
              "      <th>(500) Days of Summer (2009)</th>\n",
              "      <th>...</th>\n",
              "      <th>Zorro, the Gay Blade (1981)</th>\n",
              "      <th>Zulu (1964)</th>\n",
              "      <th>Zulu (2013)</th>\n",
              "      <th>[REC] (2007)</th>\n",
              "      <th>eXistenZ (1999)</th>\n",
              "      <th>loudQUIETloud: A Film About the Pixies (2006)</th>\n",
              "      <th>xXx (2002)</th>\n",
              "      <th>xXx: State of the Union (2005)</th>\n",
              "      <th>징Three Amigos! (1986)</th>\n",
              "      <th>캅tiraz캇m Var (2014)</th>\n",
              "    </tr>\n",
              "    <tr>\n",
              "      <th>title</th>\n",
              "      <th></th>\n",
              "      <th></th>\n",
              "      <th></th>\n",
              "      <th></th>\n",
              "      <th></th>\n",
              "      <th></th>\n",
              "      <th></th>\n",
              "      <th></th>\n",
              "      <th></th>\n",
              "      <th></th>\n",
              "      <th></th>\n",
              "      <th></th>\n",
              "      <th></th>\n",
              "      <th></th>\n",
              "      <th></th>\n",
              "      <th></th>\n",
              "      <th></th>\n",
              "      <th></th>\n",
              "      <th></th>\n",
              "      <th></th>\n",
              "      <th></th>\n",
              "    </tr>\n",
              "  </thead>\n",
              "  <tbody>\n",
              "    <tr>\n",
              "      <th>\"Great Performances\" Cats (1998)</th>\n",
              "      <td>1.000000</td>\n",
              "      <td>0.0</td>\n",
              "      <td>0.0</td>\n",
              "      <td>0.164399</td>\n",
              "      <td>0.020391</td>\n",
              "      <td>0.0</td>\n",
              "      <td>0.014046</td>\n",
              "      <td>0.000000</td>\n",
              "      <td>0.0</td>\n",
              "      <td>0.003166</td>\n",
              "      <td>...</td>\n",
              "      <td>0.0</td>\n",
              "      <td>0.0</td>\n",
              "      <td>0.0</td>\n",
              "      <td>0.0</td>\n",
              "      <td>0.000000</td>\n",
              "      <td>0.0</td>\n",
              "      <td>0.000000</td>\n",
              "      <td>0.0</td>\n",
              "      <td>0.000000</td>\n",
              "      <td>0.0</td>\n",
              "    </tr>\n",
              "    <tr>\n",
              "      <th>$9.99 (2008)</th>\n",
              "      <td>0.000000</td>\n",
              "      <td>1.0</td>\n",
              "      <td>0.0</td>\n",
              "      <td>0.000000</td>\n",
              "      <td>0.000000</td>\n",
              "      <td>0.0</td>\n",
              "      <td>0.000000</td>\n",
              "      <td>0.079474</td>\n",
              "      <td>0.0</td>\n",
              "      <td>0.156330</td>\n",
              "      <td>...</td>\n",
              "      <td>0.0</td>\n",
              "      <td>0.0</td>\n",
              "      <td>0.0</td>\n",
              "      <td>0.0</td>\n",
              "      <td>0.000000</td>\n",
              "      <td>0.0</td>\n",
              "      <td>0.013899</td>\n",
              "      <td>0.0</td>\n",
              "      <td>0.058218</td>\n",
              "      <td>0.0</td>\n",
              "    </tr>\n",
              "    <tr>\n",
              "      <th>'Hellboy': The Seeds of Creation (2004)</th>\n",
              "      <td>0.000000</td>\n",
              "      <td>0.0</td>\n",
              "      <td>1.0</td>\n",
              "      <td>0.000000</td>\n",
              "      <td>0.000000</td>\n",
              "      <td>1.0</td>\n",
              "      <td>0.000000</td>\n",
              "      <td>0.217357</td>\n",
              "      <td>0.0</td>\n",
              "      <td>0.000000</td>\n",
              "      <td>...</td>\n",
              "      <td>0.0</td>\n",
              "      <td>0.0</td>\n",
              "      <td>0.0</td>\n",
              "      <td>0.0</td>\n",
              "      <td>0.000000</td>\n",
              "      <td>0.0</td>\n",
              "      <td>0.000000</td>\n",
              "      <td>0.0</td>\n",
              "      <td>0.000000</td>\n",
              "      <td>0.0</td>\n",
              "    </tr>\n",
              "    <tr>\n",
              "      <th>'Neath the Arizona Skies (1934)</th>\n",
              "      <td>0.164399</td>\n",
              "      <td>0.0</td>\n",
              "      <td>0.0</td>\n",
              "      <td>1.000000</td>\n",
              "      <td>0.124035</td>\n",
              "      <td>0.0</td>\n",
              "      <td>0.085436</td>\n",
              "      <td>0.000000</td>\n",
              "      <td>0.0</td>\n",
              "      <td>0.019259</td>\n",
              "      <td>...</td>\n",
              "      <td>0.0</td>\n",
              "      <td>0.0</td>\n",
              "      <td>0.0</td>\n",
              "      <td>0.0</td>\n",
              "      <td>0.000000</td>\n",
              "      <td>0.0</td>\n",
              "      <td>0.000000</td>\n",
              "      <td>0.0</td>\n",
              "      <td>0.000000</td>\n",
              "      <td>0.0</td>\n",
              "    </tr>\n",
              "    <tr>\n",
              "      <th>'Round Midnight (1986)</th>\n",
              "      <td>0.020391</td>\n",
              "      <td>0.0</td>\n",
              "      <td>0.0</td>\n",
              "      <td>0.124035</td>\n",
              "      <td>1.000000</td>\n",
              "      <td>0.0</td>\n",
              "      <td>0.010597</td>\n",
              "      <td>0.143786</td>\n",
              "      <td>0.0</td>\n",
              "      <td>0.136163</td>\n",
              "      <td>...</td>\n",
              "      <td>0.0</td>\n",
              "      <td>0.0</td>\n",
              "      <td>0.0</td>\n",
              "      <td>0.0</td>\n",
              "      <td>0.121567</td>\n",
              "      <td>0.0</td>\n",
              "      <td>0.000000</td>\n",
              "      <td>0.0</td>\n",
              "      <td>0.000000</td>\n",
              "      <td>0.0</td>\n",
              "    </tr>\n",
              "  </tbody>\n",
              "</table>\n",
              "<p>5 rows × 9064 columns</p>\n",
              "</div>"
            ],
            "text/plain": [
              "title                                    \"Great Performances\" Cats (1998)  \\\n",
              "title                                                                       \n",
              "\"Great Performances\" Cats (1998)                                 1.000000   \n",
              "$9.99 (2008)                                                     0.000000   \n",
              "'Hellboy': The Seeds of Creation (2004)                          0.000000   \n",
              "'Neath the Arizona Skies (1934)                                  0.164399   \n",
              "'Round Midnight (1986)                                           0.020391   \n",
              "\n",
              "title                                    $9.99 (2008)  \\\n",
              "title                                                   \n",
              "\"Great Performances\" Cats (1998)                  0.0   \n",
              "$9.99 (2008)                                      1.0   \n",
              "'Hellboy': The Seeds of Creation (2004)           0.0   \n",
              "'Neath the Arizona Skies (1934)                   0.0   \n",
              "'Round Midnight (1986)                            0.0   \n",
              "\n",
              "title                                    'Hellboy': The Seeds of Creation (2004)  \\\n",
              "title                                                                              \n",
              "\"Great Performances\" Cats (1998)                                             0.0   \n",
              "$9.99 (2008)                                                                 0.0   \n",
              "'Hellboy': The Seeds of Creation (2004)                                      1.0   \n",
              "'Neath the Arizona Skies (1934)                                              0.0   \n",
              "'Round Midnight (1986)                                                       0.0   \n",
              "\n",
              "title                                    'Neath the Arizona Skies (1934)  \\\n",
              "title                                                                      \n",
              "\"Great Performances\" Cats (1998)                                0.164399   \n",
              "$9.99 (2008)                                                    0.000000   \n",
              "'Hellboy': The Seeds of Creation (2004)                         0.000000   \n",
              "'Neath the Arizona Skies (1934)                                 1.000000   \n",
              "'Round Midnight (1986)                                          0.124035   \n",
              "\n",
              "title                                    'Round Midnight (1986)  \\\n",
              "title                                                             \n",
              "\"Great Performances\" Cats (1998)                       0.020391   \n",
              "$9.99 (2008)                                           0.000000   \n",
              "'Hellboy': The Seeds of Creation (2004)                0.000000   \n",
              "'Neath the Arizona Skies (1934)                        0.124035   \n",
              "'Round Midnight (1986)                                 1.000000   \n",
              "\n",
              "title                                    'Salem's Lot (2004)  \\\n",
              "title                                                          \n",
              "\"Great Performances\" Cats (1998)                         0.0   \n",
              "$9.99 (2008)                                             0.0   \n",
              "'Hellboy': The Seeds of Creation (2004)                  1.0   \n",
              "'Neath the Arizona Skies (1934)                          0.0   \n",
              "'Round Midnight (1986)                                   0.0   \n",
              "\n",
              "title                                    'Til There Was You (1997)  \\\n",
              "title                                                                \n",
              "\"Great Performances\" Cats (1998)                          0.014046   \n",
              "$9.99 (2008)                                              0.000000   \n",
              "'Hellboy': The Seeds of Creation (2004)                   0.000000   \n",
              "'Neath the Arizona Skies (1934)                           0.085436   \n",
              "'Round Midnight (1986)                                    0.010597   \n",
              "\n",
              "title                                    'burbs, The (1989)  \\\n",
              "title                                                         \n",
              "\"Great Performances\" Cats (1998)                   0.000000   \n",
              "$9.99 (2008)                                       0.079474   \n",
              "'Hellboy': The Seeds of Creation (2004)            0.217357   \n",
              "'Neath the Arizona Skies (1934)                    0.000000   \n",
              "'Round Midnight (1986)                             0.143786   \n",
              "\n",
              "title                                    'night Mother (1986)  \\\n",
              "title                                                           \n",
              "\"Great Performances\" Cats (1998)                          0.0   \n",
              "$9.99 (2008)                                              0.0   \n",
              "'Hellboy': The Seeds of Creation (2004)                   0.0   \n",
              "'Neath the Arizona Skies (1934)                           0.0   \n",
              "'Round Midnight (1986)                                    0.0   \n",
              "\n",
              "title                                    (500) Days of Summer (2009)  ...  \\\n",
              "title                                                                 ...   \n",
              "\"Great Performances\" Cats (1998)                            0.003166  ...   \n",
              "$9.99 (2008)                                                0.156330  ...   \n",
              "'Hellboy': The Seeds of Creation (2004)                     0.000000  ...   \n",
              "'Neath the Arizona Skies (1934)                             0.019259  ...   \n",
              "'Round Midnight (1986)                                      0.136163  ...   \n",
              "\n",
              "title                                    Zorro, the Gay Blade (1981)  \\\n",
              "title                                                                  \n",
              "\"Great Performances\" Cats (1998)                                 0.0   \n",
              "$9.99 (2008)                                                     0.0   \n",
              "'Hellboy': The Seeds of Creation (2004)                          0.0   \n",
              "'Neath the Arizona Skies (1934)                                  0.0   \n",
              "'Round Midnight (1986)                                           0.0   \n",
              "\n",
              "title                                    Zulu (1964)  Zulu (2013)  \\\n",
              "title                                                               \n",
              "\"Great Performances\" Cats (1998)                 0.0          0.0   \n",
              "$9.99 (2008)                                     0.0          0.0   \n",
              "'Hellboy': The Seeds of Creation (2004)          0.0          0.0   \n",
              "'Neath the Arizona Skies (1934)                  0.0          0.0   \n",
              "'Round Midnight (1986)                           0.0          0.0   \n",
              "\n",
              "title                                    [REC] (2007)  eXistenZ (1999)  \\\n",
              "title                                                                    \n",
              "\"Great Performances\" Cats (1998)                  0.0         0.000000   \n",
              "$9.99 (2008)                                      0.0         0.000000   \n",
              "'Hellboy': The Seeds of Creation (2004)           0.0         0.000000   \n",
              "'Neath the Arizona Skies (1934)                   0.0         0.000000   \n",
              "'Round Midnight (1986)                            0.0         0.121567   \n",
              "\n",
              "title                                    loudQUIETloud: A Film About the Pixies (2006)  \\\n",
              "title                                                                                    \n",
              "\"Great Performances\" Cats (1998)                                                   0.0   \n",
              "$9.99 (2008)                                                                       0.0   \n",
              "'Hellboy': The Seeds of Creation (2004)                                            0.0   \n",
              "'Neath the Arizona Skies (1934)                                                    0.0   \n",
              "'Round Midnight (1986)                                                             0.0   \n",
              "\n",
              "title                                    xXx (2002)  \\\n",
              "title                                                 \n",
              "\"Great Performances\" Cats (1998)           0.000000   \n",
              "$9.99 (2008)                               0.013899   \n",
              "'Hellboy': The Seeds of Creation (2004)    0.000000   \n",
              "'Neath the Arizona Skies (1934)            0.000000   \n",
              "'Round Midnight (1986)                     0.000000   \n",
              "\n",
              "title                                    xXx: State of the Union (2005)  \\\n",
              "title                                                                     \n",
              "\"Great Performances\" Cats (1998)                                    0.0   \n",
              "$9.99 (2008)                                                        0.0   \n",
              "'Hellboy': The Seeds of Creation (2004)                             0.0   \n",
              "'Neath the Arizona Skies (1934)                                     0.0   \n",
              "'Round Midnight (1986)                                              0.0   \n",
              "\n",
              "title                                    징Three Amigos! (1986)  \\\n",
              "title                                                            \n",
              "\"Great Performances\" Cats (1998)                      0.000000   \n",
              "$9.99 (2008)                                          0.058218   \n",
              "'Hellboy': The Seeds of Creation (2004)               0.000000   \n",
              "'Neath the Arizona Skies (1934)                       0.000000   \n",
              "'Round Midnight (1986)                                0.000000   \n",
              "\n",
              "title                                    캅tiraz캇m Var (2014)  \n",
              "title                                                         \n",
              "\"Great Performances\" Cats (1998)                         0.0  \n",
              "$9.99 (2008)                                             0.0  \n",
              "'Hellboy': The Seeds of Creation (2004)                  0.0  \n",
              "'Neath the Arizona Skies (1934)                          0.0  \n",
              "'Round Midnight (1986)                                   0.0  \n",
              "\n",
              "[5 rows x 9064 columns]"
            ]
          },
          "metadata": {
            "tags": []
          },
          "execution_count": 25
        }
      ]
    },
    {
      "cell_type": "markdown",
      "metadata": {
        "id": "iy-91okLb8ex"
      },
      "source": [
        "Item 간의 유사도 측정완료!\n",
        "\n",
        "이제 특정 item에 있어 비슷한 item을 추천해주는 기능을 넣으면 된다."
      ]
    },
    {
      "cell_type": "code",
      "metadata": {
        "id": "XTWSD70rb8ex"
      },
      "source": [
        "def get_item_based_collabor(title):\n",
        "    return item_based_collabor[title].sort_values(ascending=False)[:6]"
      ],
      "execution_count": null,
      "outputs": []
    },
    {
      "cell_type": "code",
      "metadata": {
        "id": "8sIFW5qPb8ex",
        "outputId": "da74a971-40cb-4654-ea1a-28218ea2e07e"
      },
      "source": [
        "#제목 입력시 유사도가 높은 item 추천\n",
        "get_item_based_collabor('$9.99 (2008)')"
      ],
      "execution_count": null,
      "outputs": [
        {
          "output_type": "execute_result",
          "data": {
            "text/plain": [
              "title\n",
              "$9.99 (2008)                                                 1.000000\n",
              "Broken Wings (Knafayim Shvurot) (2002)                       0.658145\n",
              "Mondays in the Sun (Lunes al sol, Los) (2002)                0.658145\n",
              "Baran (2001)                                                 0.658145\n",
              "Edge of Heaven, The (Auf der anderen Seite) (2007)           0.658145\n",
              "Kirikou and the Sorceress (Kirikou et la sorci챔re) (1998)    0.658145\n",
              "Name: $9.99 (2008), dtype: float64"
            ]
          },
          "metadata": {
            "tags": []
          },
          "execution_count": 27
        }
      ]
    },
    {
      "cell_type": "markdown",
      "metadata": {
        "id": "N8UV-qjfb8ey"
      },
      "source": [
        "# 4) 협업 필터링_행렬 분해\n",
        "\n",
        "- 3)의 데이터와 동일 데이터 사용"
      ]
    },
    {
      "cell_type": "code",
      "metadata": {
        "id": "QAok5elzb8ey",
        "outputId": "28eda0b8-af73-49e6-c8cd-e040944be710"
      },
      "source": [
        "print(movie_data.shape)\n",
        "print(rating_data.shape)"
      ],
      "execution_count": null,
      "outputs": [
        {
          "output_type": "stream",
          "text": [
            "(9125, 3)\n",
            "(100004, 3)\n"
          ],
          "name": "stdout"
        }
      ]
    },
    {
      "cell_type": "markdown",
      "metadata": {
        "id": "gLv5Hluvb8ey"
      },
      "source": [
        "## 전처리"
      ]
    },
    {
      "cell_type": "code",
      "metadata": {
        "id": "0wGKMwGqb8ey",
        "outputId": "c663c3f3-e2cc-4e10-d979-9798580c221c",
        "colab": {
          "base_uri": "https://localhost:8080/",
          "height": 190
        }
      },
      "source": [
        "rating_data2 = pd.read_csv(\"C:/Users/User/Desktop/ratings.csv\",encoding = 'cp949')\n",
        "movie_data2 = pd.read_csv(\"C:/Users/User/Desktop/movies.csv\", encoding = 'cp949')"
      ],
      "execution_count": 1,
      "outputs": [
        {
          "output_type": "error",
          "ename": "NameError",
          "evalue": "ignored",
          "traceback": [
            "\u001b[0;31m---------------------------------------------------------------------------\u001b[0m",
            "\u001b[0;31mNameError\u001b[0m                                 Traceback (most recent call last)",
            "\u001b[0;32m<ipython-input-1-3ffd5479197b>\u001b[0m in \u001b[0;36m<module>\u001b[0;34m()\u001b[0m\n\u001b[0;32m----> 1\u001b[0;31m \u001b[0mrating_data2\u001b[0m \u001b[0;34m=\u001b[0m \u001b[0mpd\u001b[0m\u001b[0;34m.\u001b[0m\u001b[0mread_csv\u001b[0m\u001b[0;34m(\u001b[0m\u001b[0;34m\"C:/Users/User/Desktop/ratings.csv\"\u001b[0m\u001b[0;34m,\u001b[0m\u001b[0mencoding\u001b[0m \u001b[0;34m=\u001b[0m \u001b[0;34m'cp949'\u001b[0m\u001b[0;34m)\u001b[0m\u001b[0;34m\u001b[0m\u001b[0;34m\u001b[0m\u001b[0m\n\u001b[0m\u001b[1;32m      2\u001b[0m \u001b[0mmovie_data2\u001b[0m \u001b[0;34m=\u001b[0m \u001b[0mpd\u001b[0m\u001b[0;34m.\u001b[0m\u001b[0mread_csv\u001b[0m\u001b[0;34m(\u001b[0m\u001b[0;34m\"C:/Users/User/Desktop/movies.csv\"\u001b[0m\u001b[0;34m,\u001b[0m \u001b[0mencoding\u001b[0m \u001b[0;34m=\u001b[0m \u001b[0;34m'cp949'\u001b[0m\u001b[0;34m)\u001b[0m\u001b[0;34m\u001b[0m\u001b[0;34m\u001b[0m\u001b[0m\n",
            "\u001b[0;31mNameError\u001b[0m: name 'pd' is not defined"
          ]
        }
      ]
    },
    {
      "cell_type": "code",
      "metadata": {
        "id": "SzLBK3z1b8ez"
      },
      "source": [
        "rating_data2.drop('timestamp', axis = 1, inplace = True)\n",
        "rating_data2.head()"
      ],
      "execution_count": null,
      "outputs": []
    },
    {
      "cell_type": "code",
      "metadata": {
        "id": "KGbSv70yb8ez"
      },
      "source": [
        "movie_data2.drop('genres', axis = 1, inplace = True)\n",
        "movie_data2.head()"
      ],
      "execution_count": null,
      "outputs": []
    },
    {
      "cell_type": "code",
      "metadata": {
        "id": "NS2zvqukb8ez"
      },
      "source": [
        "user_movie_data2 = pd.merge(rating_data, movie_data, on = 'movieId')\n",
        "user_movie_data2.head()"
      ],
      "execution_count": null,
      "outputs": []
    },
    {
      "cell_type": "code",
      "metadata": {
        "id": "8hSHS6U-b8e0"
      },
      "source": [
        "user_movie_data2.shape"
      ],
      "execution_count": null,
      "outputs": []
    },
    {
      "cell_type": "markdown",
      "metadata": {
        "id": "y8V89a4Kb8e0"
      },
      "source": [
        "불필요한 칼럼 제거 후, merge를 이용해 하나의 데이터로 합쳤다.\n",
        "\n",
        "이제, pivot_table을 만들어 줄 차례!\n",
        "\n",
        "value에는 rating, column에는 movie title, index는 user id를 넣어준다."
      ]
    },
    {
      "cell_type": "code",
      "metadata": {
        "id": "e-IHMWwTb8e0"
      },
      "source": [
        "user_movie_rating2 = user_movie_data2.pivot_table('rating', index = 'userId', columns='title').fillna(0)"
      ],
      "execution_count": null,
      "outputs": []
    },
    {
      "cell_type": "code",
      "metadata": {
        "id": "jy_p6zbcb8e0"
      },
      "source": [
        "user_movie_rating2.shape"
      ],
      "execution_count": null,
      "outputs": []
    },
    {
      "cell_type": "code",
      "metadata": {
        "id": "moMDe6n0b8e1"
      },
      "source": [
        "user_movie_rating2.head()"
      ],
      "execution_count": null,
      "outputs": []
    },
    {
      "cell_type": "markdown",
      "metadata": {
        "id": "SwyOsuRub8e1"
      },
      "source": [
        "이제 사용자-영화 기준의 데이터를 **영화-사용자** 기준으로 만들어서 특정 영화와 비슷한 영화를 추천해주는 로직을 구현해보자."
      ]
    },
    {
      "cell_type": "code",
      "metadata": {
        "id": "iu29CspYb8e1"
      },
      "source": [
        "movie_user_rating2 = user_movie_rating2.values.T\n",
        "movie_user_rating2.shape"
      ],
      "execution_count": null,
      "outputs": []
    },
    {
      "cell_type": "code",
      "metadata": {
        "id": "SPYzJ-bOb8e1"
      },
      "source": [
        "type(movie_user_rating2)"
      ],
      "execution_count": null,
      "outputs": []
    },
    {
      "cell_type": "markdown",
      "metadata": {
        "id": "QqG7EVHUb8e2"
      },
      "source": [
        "## SVD(Singular Value Decomposition, 특이값 분해) 사용\n",
        "\n",
        "scikit learn의 TruuncatedSVD를 사용"
      ]
    },
    {
      "cell_type": "code",
      "metadata": {
        "id": "2JGgnODJb8e2"
      },
      "source": [
        "from sklearn.decomposition import TruncatedSVD\n",
        "from scipy.sparse.linalg import svds"
      ],
      "execution_count": null,
      "outputs": []
    },
    {
      "cell_type": "code",
      "metadata": {
        "scrolled": true,
        "id": "PPfUEHJ3b8e2",
        "outputId": "6d664d2a-531d-46fa-b3c4-206c07169fc6"
      },
      "source": [
        "SVD = TruncatedSVD(n_components=12)\n",
        "matrix = SVD.fit_transform(movie_user_rating2)\n",
        "matrix.shape"
      ],
      "execution_count": null,
      "outputs": [
        {
          "output_type": "execute_result",
          "data": {
            "text/plain": [
              "(9064, 12)"
            ]
          },
          "metadata": {
            "tags": []
          },
          "execution_count": 45
        }
      ]
    },
    {
      "cell_type": "code",
      "metadata": {
        "id": "3x5-PGyib8e2",
        "outputId": "7db716c4-d1b2-463e-9fd7-bb66be17bc18"
      },
      "source": [
        "matrix[0]"
      ],
      "execution_count": null,
      "outputs": [
        {
          "output_type": "execute_result",
          "data": {
            "text/plain": [
              "array([ 0.01227491,  0.00250758,  0.01553936, -0.03400553, -0.01460059,\n",
              "        0.00372807, -0.00199212,  0.04533481, -0.01619239, -0.02227232,\n",
              "        0.00988747, -0.00782529])"
            ]
          },
          "metadata": {
            "tags": []
          },
          "execution_count": 46
        }
      ]
    },
    {
      "cell_type": "markdown",
      "metadata": {
        "id": "ehB5GSf7b8e3"
      },
      "source": [
        "12개의 component로 차원 축소완료!\n",
        "\n",
        "이제, 이렇게 나온 데이터를 활용해서 pearson 상관계수를 구하자."
      ]
    },
    {
      "cell_type": "code",
      "metadata": {
        "id": "azjY3-Mgb8e3",
        "outputId": "b7e846f4-049e-4289-d05c-cc99c97d6e3a"
      },
      "source": [
        "corr = np.corrcoef(matrix)\n",
        "corr.shape"
      ],
      "execution_count": null,
      "outputs": [
        {
          "output_type": "execute_result",
          "data": {
            "text/plain": [
              "(9064, 9064)"
            ]
          },
          "metadata": {
            "tags": []
          },
          "execution_count": 47
        }
      ]
    },
    {
      "cell_type": "code",
      "metadata": {
        "id": "LtnQCRTvb8e3",
        "outputId": "4402d939-247f-45b8-e4c0-1f5b416d0004"
      },
      "source": [
        "corr2 = corr[:200, :200]\n",
        "corr2.shape"
      ],
      "execution_count": null,
      "outputs": [
        {
          "output_type": "execute_result",
          "data": {
            "text/plain": [
              "(200, 200)"
            ]
          },
          "metadata": {
            "tags": []
          },
          "execution_count": 49
        }
      ]
    },
    {
      "cell_type": "code",
      "metadata": {
        "id": "VBJtosmAb8e3",
        "outputId": "7ee34ecf-ecd8-42ca-aa7f-1bf73867f8f5"
      },
      "source": [
        "plt.figure(figsize=(16, 10))\n",
        "sns.heatmap(corr2)"
      ],
      "execution_count": null,
      "outputs": [
        {
          "output_type": "execute_result",
          "data": {
            "text/plain": [
              "<AxesSubplot:>"
            ]
          },
          "metadata": {
            "tags": []
          },
          "execution_count": 50
        },
        {
          "output_type": "display_data",
          "data": {
            "image/png": "[encoded data removed]",
            "text/plain": [
              "<Figure size 1152x720 with 2 Axes>"
            ]
          },
          "metadata": {
            "tags": [],
            "needs_background": "light"
          }
        }
      ]
    },
    {
      "cell_type": "markdown",
      "metadata": {
        "id": "wBOWDHU-b8e4"
      },
      "source": [
        "이렇게 나온 상관계수를 통해 특정 영화와 상관계수가 높은 영화를 뽑아준다."
      ]
    },
    {
      "cell_type": "code",
      "metadata": {
        "id": "en1eGE3hb8e4"
      },
      "source": [
        "movie_title = user_movie_rating2.columns\n",
        "movie_title_list = list(movie_title)\n",
        "coffey_hands = movie_title_list.index(\"Guardians of the Galaxy (2014)\")"
      ],
      "execution_count": null,
      "outputs": []
    },
    {
      "cell_type": "code",
      "metadata": {
        "id": "gzCoKW4ub8e4",
        "outputId": "4b16e777-4cf9-4297-a1cc-6d3707eafe66"
      },
      "source": [
        "#'가디언즈 오브 갤럭시' 영화를 기준으로 비슷한 영화 뽑기!\n",
        "corr_coffey_hands  = corr[coffey_hands]\n",
        "list(movie_title[(corr_coffey_hands >= 0.9)])[:50]"
      ],
      "execution_count": null,
      "outputs": [
        {
          "output_type": "execute_result",
          "data": {
            "text/plain": [
              "['10,000 BC (2008)',\n",
              " '2 Guns (2013)',\n",
              " '2012 (2009)',\n",
              " '21 (2008)',\n",
              " '300: Rise of an Empire (2014)',\n",
              " 'Abduction (2011)',\n",
              " 'Adjustment Bureau, The (2011)',\n",
              " 'Adventures of Tintin, The (2011)',\n",
              " 'Alice in Wonderland (2010)',\n",
              " 'Amazing Spider-Man, The (2012)',\n",
              " 'Angels & Demons (2009)',\n",
              " 'Ant-Man (2015)',\n",
              " 'Avatar (2009)',\n",
              " 'Avengers, The (2012)',\n",
              " 'Avengers: Age of Ultron (2015)',\n",
              " 'Batman: The Dark Knight Returns, Part 1 (2012)',\n",
              " 'Batman: The Dark Knight Returns, Part 2 (2013)',\n",
              " 'Battle: Los Angeles (2011)',\n",
              " 'Bee Movie (2007)',\n",
              " 'Beowulf (2007)',\n",
              " 'Big Hero 6 (2014)',\n",
              " 'Bolt (2008)',\n",
              " 'Book of Eli, The (2010)',\n",
              " 'Brave (2012)',\n",
              " 'Captain America: Civil War (2016)',\n",
              " 'Captain America: The First Avenger (2011)',\n",
              " 'Captain America: The Winter Soldier (2014)',\n",
              " 'Chronicle (2012)',\n",
              " 'Click (2006)',\n",
              " 'Cloverfield (2008)',\n",
              " 'Cop Out (2010)',\n",
              " 'Crank: High Voltage (2009)',\n",
              " 'Dark Knight Rises, The (2012)',\n",
              " 'Diary of a Wimpy Kid (2010)',\n",
              " 'District 9 (2009)',\n",
              " 'Dredd (2012)',\n",
              " 'Drillbit Taylor (2008)',\n",
              " 'D챕j횪 Vu (Deja Vu) (2006)',\n",
              " 'Edge of Tomorrow (2014)',\n",
              " 'Elysium (2013)',\n",
              " \"Ender's Game (2013)\",\n",
              " 'Ex Machina (2015)',\n",
              " 'Fright Night (2011)',\n",
              " 'Fury (2014)',\n",
              " 'Get Smart (2008)',\n",
              " 'Ghost Rider: Spirit of Vengeance (2012)',\n",
              " 'Girl with the Dragon Tattoo, The (2011)',\n",
              " 'Godzilla (2014)',\n",
              " 'Gravity (2013)',\n",
              " 'Green Hornet, The (2011)']"
            ]
          },
          "metadata": {
            "tags": []
          },
          "execution_count": 53
        }
      ]
    },
    {
      "cell_type": "markdown",
      "metadata": {
        "id": "wp3ZahGkb8e4"
      },
      "source": [
        "아이템 기반 협업 필터링과의 결과 비교"
      ]
    },
    {
      "cell_type": "code",
      "metadata": {
        "id": "2miJBtipb8e4"
      },
      "source": [
        "movie_title = user_movie_rating2.columns\n",
        "movie_title_list = list(movie_title)\n",
        "coffey_hands = movie_title_list.index(\"$9.99 (2008)\")"
      ],
      "execution_count": null,
      "outputs": []
    },
    {
      "cell_type": "code",
      "metadata": {
        "id": "gcAxVLtQb8e5",
        "outputId": "d78909b9-2968-4b00-8d17-38ec7dbb730b"
      },
      "source": [
        "corr_coffey_hands  = corr[coffey_hands]\n",
        "list(movie_title[(corr_coffey_hands >= 0.9)])[:20]"
      ],
      "execution_count": null,
      "outputs": [
        {
          "output_type": "execute_result",
          "data": {
            "text/plain": [
              "['$9.99 (2008)',\n",
              " '12:08 East of Bucharest (A fost sau n-a fost?) (2006)',\n",
              " '20,000 Leagues Under the Sea (1916)',\n",
              " '25 Watts (2001)',\n",
              " '3:10 to Yuma (1957)',\n",
              " '49th Parallel (1941)',\n",
              " '71 Fragments of a Chronology of Chance (71 Fragmente einer Chronologie des Zufalls) (1994)',\n",
              " 'A-Haunting We Will Go (1942)',\n",
              " 'Africa Screams (1949)',\n",
              " 'Age of Stupid, The (2009)',\n",
              " 'Aguirre: The Wrath of God (Aguirre, der Zorn Gottes) (1972)',\n",
              " 'American Heart (1992)',\n",
              " 'Andalusian Dog, An (Chien andalou, Un) (1929)',\n",
              " 'Anderson Tapes, The (1971)',\n",
              " 'Animals are Beautiful People (1974)',\n",
              " 'Art of the Steal, The (2009)',\n",
              " 'Ashes and Diamonds (Popi처l i diament) (1958)',\n",
              " 'Aspen (1991)',\n",
              " 'At War with the Army (1950)',\n",
              " 'Ballad of Cable Hogue, The (1970)']"
            ]
          },
          "metadata": {
            "tags": []
          },
          "execution_count": 67
        }
      ]
    },
    {
      "cell_type": "code",
      "metadata": {
        "id": "zKzIfbcVb8e5",
        "outputId": "649c9534-5136-4d18-debf-aca2500e1e72"
      },
      "source": [
        "def get_item_based_collabor(title):\n",
        "    return item_based_collabor[title].sort_values(ascending=False)[:20]\n",
        "\n",
        "get_item_based_collabor('$9.99 (2008)')"
      ],
      "execution_count": null,
      "outputs": [
        {
          "output_type": "execute_result",
          "data": {
            "text/plain": [
              "title\n",
              "$9.99 (2008)                                                                                1.000000\n",
              "Broken Wings (Knafayim Shvurot) (2002)                                                      0.658145\n",
              "Mondays in the Sun (Lunes al sol, Los) (2002)                                               0.658145\n",
              "Baran (2001)                                                                                0.658145\n",
              "Edge of Heaven, The (Auf der anderen Seite) (2007)                                          0.658145\n",
              "Kirikou and the Sorceress (Kirikou et la sorci챔re) (1998)                                   0.658145\n",
              "Riding Alone for Thousands of Miles (Qian li zou dan qi) (2005)                             0.658145\n",
              "Caramel (Sukkar banat) (2007)                                                               0.658145\n",
              "Life is a Miracle (Zivot je cudo) (2004)                                                    0.658145\n",
              "Eagle vs Shark (2007)                                                                       0.658145\n",
              "Head-On (Gegen die Wand) (2004)                                                             0.658145\n",
              "Margot at the Wedding (2007)                                                                0.658145\n",
              "Wind Will Carry Us, The (Bad ma ra khahad bord) (1999)                                      0.658145\n",
              "Spring, Summer, Fall, Winter... and Spring (Bom yeoreum gaeul gyeoul geurigo bom) (2003)    0.655119\n",
              "In July (Im Juli) (2000)                                                                    0.654879\n",
              "Mary and Max (2009)                                                                         0.607408\n",
              "Persepolis (2007)                                                                           0.508811\n",
              "Ten (2002)                                                                                  0.491904\n",
              "Soul Kitchen (2009)                                                                         0.489195\n",
              "Greenberg (2010)                                                                            0.445223\n",
              "Name: $9.99 (2008), dtype: float64"
            ]
          },
          "metadata": {
            "tags": []
          },
          "execution_count": 63
        }
      ]
    },
    {
      "cell_type": "code",
      "metadata": {
        "id": "JlwLj8Geb8e5"
      },
      "source": [
        ""
      ],
      "execution_count": null,
      "outputs": []
    }
  ]
}